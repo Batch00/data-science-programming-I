{
 "cells": [
  {
   "cell_type": "code",
   "execution_count": 1,
   "id": "28698030",
   "metadata": {},
   "outputs": [],
   "source": [
    "# project: p8\n",
    "# submitter: cmbatchelor\n",
    "# partner: none\n",
    "# hours: 4"
   ]
  },
  {
   "cell_type": "code",
   "execution_count": 2,
   "id": "6c1766c8",
   "metadata": {},
   "outputs": [],
   "source": [
    "import csv\n",
    "\n",
    "# Modified from https://automatetheboringstuff.com/chapter14/\n",
    "def process_csv(filename):\n",
    "    example_file = open(filename, encoding=\"utf-8\")\n",
    "    example_reader = csv.reader(example_file)\n",
    "    example_data = list(example_reader)\n",
    "    example_file.close()\n",
    "    return example_data"
   ]
  },
  {
   "cell_type": "code",
   "execution_count": 3,
   "id": "4ce9edd4",
   "metadata": {},
   "outputs": [],
   "source": [
    "def get_mapping(path):\n",
    "    csv_data = process_csv(path) # you can use this function from p7\n",
    "    mapping_dict = {}\n",
    "    # TODO: make a dictionary where keys are the ID's and values are the names\n",
    "    for row in csv_data:\n",
    "        mapping_dict[row[0]] = row[1]\n",
    "    return mapping_dict"
   ]
  },
  {
   "cell_type": "code",
   "execution_count": 4,
   "id": "46c9dabc",
   "metadata": {},
   "outputs": [
    {
     "data": {
      "text/plain": [
       "{'tt1950186': 'Ford v Ferrari',\n",
       " 'tt2267998': 'Gone Girl',\n",
       " 'nm0000255': 'Ben Affleck',\n",
       " 'nm0003506': 'James Mangold',\n",
       " 'nm0000354': 'Matt Damon',\n",
       " 'nm1256532': 'Jon Bernthal',\n",
       " 'nm0683253': 'Rosamund Pike',\n",
       " 'nm0000288': 'Christian Bale',\n",
       " 'nm0000399': 'David Fincher'}"
      ]
     },
     "execution_count": 4,
     "metadata": {},
     "output_type": "execute_result"
    }
   ],
   "source": [
    "#q1\n",
    "mapping = get_mapping(\"small_mapping.csv\")\n",
    "mapping"
   ]
  },
  {
   "cell_type": "code",
   "execution_count": 5,
   "id": "6919401c",
   "metadata": {},
   "outputs": [
    {
     "data": {
      "text/plain": [
       "'Christian Bale'"
      ]
     },
     "execution_count": 5,
     "metadata": {},
     "output_type": "execute_result"
    }
   ],
   "source": [
    "#q2\n",
    "mapping['nm0000288']"
   ]
  },
  {
   "cell_type": "code",
   "execution_count": 6,
   "id": "a0db44cc",
   "metadata": {},
   "outputs": [
    {
     "data": {
      "text/plain": [
       "['Ben Affleck',\n",
       " 'James Mangold',\n",
       " 'Matt Damon',\n",
       " 'Jon Bernthal',\n",
       " 'Rosamund Pike',\n",
       " 'Christian Bale',\n",
       " 'David Fincher']"
      ]
     },
     "execution_count": 6,
     "metadata": {},
     "output_type": "execute_result"
    }
   ],
   "source": [
    "#q3\n",
    "nm_list = []\n",
    "for keys in mapping:\n",
    "    if keys[:2] == 'nm':\n",
    "        nm_list.append(mapping[keys])\n",
    "nm_list"
   ]
  },
  {
   "cell_type": "code",
   "execution_count": 7,
   "id": "a86986d1",
   "metadata": {},
   "outputs": [
    {
     "data": {
      "text/plain": [
       "['nm0683253']"
      ]
     },
     "execution_count": 7,
     "metadata": {},
     "output_type": "execute_result"
    }
   ],
   "source": [
    "#q4\n",
    "pike_list = []\n",
    "for keys in mapping:\n",
    "    if mapping[keys][-4:] == 'Pike':\n",
    "        pike_list.append(keys)\n",
    "pike_list"
   ]
  },
  {
   "cell_type": "code",
   "execution_count": 8,
   "id": "ff1ec5cb",
   "metadata": {},
   "outputs": [],
   "source": [
    "def get_raw_movies(path):\n",
    "    csv_data = process_csv(path) # you can use this function from p7\n",
    "    header = csv_data[0]\n",
    "    rows = csv_data[1:]\n",
    "    raw_movie_list = []\n",
    "    for row in rows:\n",
    "        raw_movie_dict = {}\n",
    "        raw_movie_dict[header[0]] = row[0]\n",
    "        raw_movie_dict[header[1]] = int(row[1])\n",
    "        raw_movie_dict[header[2]]= row[2].split(', ')\n",
    "        raw_movie_dict[header[3]]= int(row[3])\n",
    "        raw_movie_dict[header[4]]= row[4].split(', ')\n",
    "        raw_movie_dict[header[5]]= row[5].split(', ')\n",
    "        raw_movie_dict[header[6]] = float(row[6])\n",
    "        raw_movie_list.append(raw_movie_dict)\n",
    "    return raw_movie_list"
   ]
  },
  {
   "cell_type": "code",
   "execution_count": 9,
   "id": "673ef29d",
   "metadata": {},
   "outputs": [
    {
     "data": {
      "text/plain": [
       "[{'title': 'tt1950186',\n",
       "  'year': 2019,\n",
       "  'genres': ['Action', 'Biography', 'Drama'],\n",
       "  'duration': 152,\n",
       "  'directors': ['nm0003506'],\n",
       "  'actors': ['nm0000354', 'nm0000288', 'nm1256532'],\n",
       "  'rating': 8.1},\n",
       " {'title': 'tt2267998',\n",
       "  'year': 2014,\n",
       "  'genres': ['Drama', 'Mystery', 'Thriller'],\n",
       "  'duration': 149,\n",
       "  'directors': ['nm0000399'],\n",
       "  'actors': ['nm0000255', 'nm0683253'],\n",
       "  'rating': 8.1}]"
      ]
     },
     "execution_count": 9,
     "metadata": {},
     "output_type": "execute_result"
    }
   ],
   "source": [
    "#q5\n",
    "raw_movie = get_raw_movies('small_movies.csv')\n",
    "raw_movie"
   ]
  },
  {
   "cell_type": "code",
   "execution_count": 10,
   "id": "9b8fd01c",
   "metadata": {},
   "outputs": [
    {
     "data": {
      "text/plain": [
       "2"
      ]
     },
     "execution_count": 10,
     "metadata": {},
     "output_type": "execute_result"
    }
   ],
   "source": [
    "#q6\n",
    "len(raw_movie[1]['actors'])"
   ]
  },
  {
   "cell_type": "code",
   "execution_count": 11,
   "id": "95ae3db7",
   "metadata": {},
   "outputs": [
    {
     "data": {
      "text/plain": [
       "'nm0000354'"
      ]
     },
     "execution_count": 11,
     "metadata": {},
     "output_type": "execute_result"
    }
   ],
   "source": [
    "#q7\n",
    "raw_movie[0]['actors'][0]"
   ]
  },
  {
   "cell_type": "code",
   "execution_count": 12,
   "id": "fab228d8",
   "metadata": {},
   "outputs": [],
   "source": [
    "def get_movies(movies_path, mapping_path):\n",
    "    raw_movies = get_raw_movies(movies_path)\n",
    "    mapping = get_mapping(mapping_path)\n",
    "    for dic in raw_movies:\n",
    "        if dic['title'] in mapping:\n",
    "            dic['title'] = mapping[dic['title']]\n",
    "        director_list = []\n",
    "        actor_list = []\n",
    "        for director in dic['directors']:\n",
    "            if director in mapping:\n",
    "                director_list.append(mapping[director])\n",
    "                dic['directors'] = director_list\n",
    "        for actor in dic['actors']:\n",
    "            if actor in mapping:\n",
    "                actor_list.append(mapping[actor])\n",
    "                dic['actors'] = actor_list\n",
    "    return raw_movies\n",
    "    "
   ]
  },
  {
   "cell_type": "code",
   "execution_count": 13,
   "id": "4b658f49",
   "metadata": {},
   "outputs": [
    {
     "data": {
      "text/plain": [
       "[{'title': 'Ford v Ferrari',\n",
       "  'year': 2019,\n",
       "  'genres': ['Action', 'Biography', 'Drama'],\n",
       "  'duration': 152,\n",
       "  'directors': ['James Mangold'],\n",
       "  'actors': ['Matt Damon', 'Christian Bale', 'Jon Bernthal'],\n",
       "  'rating': 8.1},\n",
       " {'title': 'Gone Girl',\n",
       "  'year': 2014,\n",
       "  'genres': ['Drama', 'Mystery', 'Thriller'],\n",
       "  'duration': 149,\n",
       "  'directors': ['David Fincher'],\n",
       "  'actors': ['Ben Affleck', 'Rosamund Pike'],\n",
       "  'rating': 8.1}]"
      ]
     },
     "execution_count": 13,
     "metadata": {},
     "output_type": "execute_result"
    }
   ],
   "source": [
    "#q8\n",
    "small_data = get_movies(\"small_movies.csv\", \"small_mapping.csv\")\n",
    "small_data"
   ]
  },
  {
   "cell_type": "code",
   "execution_count": 14,
   "id": "cc8a520c",
   "metadata": {},
   "outputs": [
    {
     "data": {
      "text/plain": [
       "'Gone Girl'"
      ]
     },
     "execution_count": 14,
     "metadata": {},
     "output_type": "execute_result"
    }
   ],
   "source": [
    "#q9\n",
    "small_data[1][\"title\"]"
   ]
  },
  {
   "cell_type": "code",
   "execution_count": 15,
   "id": "eb7f0dab",
   "metadata": {},
   "outputs": [
    {
     "data": {
      "text/plain": [
       "['Matt Damon', 'Christian Bale', 'Jon Bernthal']"
      ]
     },
     "execution_count": 15,
     "metadata": {},
     "output_type": "execute_result"
    }
   ],
   "source": [
    "#q10\n",
    "small_data[0][\"actors\"]"
   ]
  },
  {
   "cell_type": "code",
   "execution_count": 16,
   "id": "f3adc766",
   "metadata": {},
   "outputs": [
    {
     "data": {
      "text/plain": [
       "['David Fincher']"
      ]
     },
     "execution_count": 16,
     "metadata": {},
     "output_type": "execute_result"
    }
   ],
   "source": [
    "#q11\n",
    "small_data[-1][\"directors\"]"
   ]
  },
  {
   "cell_type": "code",
   "execution_count": 17,
   "id": "98282eb1",
   "metadata": {},
   "outputs": [],
   "source": [
    "movies = get_movies(\"movies.csv\", \"mapping.csv\")"
   ]
  },
  {
   "cell_type": "code",
   "execution_count": 18,
   "id": "79e26fdc",
   "metadata": {},
   "outputs": [
    {
     "data": {
      "text/plain": [
       "[{'title': 'Ambassador Bill',\n",
       "  'year': 1931,\n",
       "  'genres': ['Comedy'],\n",
       "  'duration': 70,\n",
       "  'directors': ['Sam Taylor'],\n",
       "  'actors': ['Will Rogers',\n",
       "   'Marguerite Churchill',\n",
       "   'Greta Nissen',\n",
       "   'Tad Alexander'],\n",
       "  'rating': 6.2},\n",
       " {'title': 'The Etruscan Smile',\n",
       "  'year': 2018,\n",
       "  'genres': ['Drama'],\n",
       "  'duration': 107,\n",
       "  'directors': ['Oded Binnun', 'Mihal Brezis'],\n",
       "  'actors': ['Brian Cox', 'JJ Feild', 'Thora Birch', 'Rosanna Arquette'],\n",
       "  'rating': 6.8},\n",
       " {'title': 'In Old Oklahoma',\n",
       "  'year': 1943,\n",
       "  'genres': ['Romance', 'Western'],\n",
       "  'duration': 102,\n",
       "  'directors': ['Albert S. Rogell'],\n",
       "  'actors': ['John Wayne',\n",
       "   'Martha Scott',\n",
       "   'Albert Dekker',\n",
       "   \"George 'Gabby' Hayes\",\n",
       "   'Marjorie Rambeau'],\n",
       "  'rating': 6.5}]"
      ]
     },
     "execution_count": 18,
     "metadata": {},
     "output_type": "execute_result"
    }
   ],
   "source": [
    "#q12\n",
    "movies[2017:2020]"
   ]
  },
  {
   "cell_type": "code",
   "execution_count": 19,
   "id": "d18ad64c",
   "metadata": {},
   "outputs": [
    {
     "data": {
      "text/plain": [
       "[{'title': 'Battle Bots',\n",
       "  'year': 2018,\n",
       "  'genres': ['Action', 'Adventure', 'Sci-Fi'],\n",
       "  'duration': 67,\n",
       "  'directors': ['Mark Polonia'],\n",
       "  'actors': ['Danielle Donahue', 'Jeff Kirkendall', 'Marie DeLorenzo'],\n",
       "  'rating': 1.9},\n",
       " {'title': 'Inescapable',\n",
       "  'year': 2003,\n",
       "  'genres': ['Drama'],\n",
       "  'duration': 82,\n",
       "  'directors': ['Helen Lesnick'],\n",
       "  'actors': ['Natalie Anderson', 'Tanna Frederick', 'Athena Demos'],\n",
       "  'rating': 4.2}]"
      ]
     },
     "execution_count": 19,
     "metadata": {},
     "output_type": "execute_result"
    }
   ],
   "source": [
    "#q13\n",
    "movies[-2:]"
   ]
  },
  {
   "cell_type": "code",
   "execution_count": 20,
   "id": "ce8abbfe",
   "metadata": {},
   "outputs": [],
   "source": [
    "# You are *not* allowed to change this function\n",
    "\n",
    "def search_bar(movies, keyword):\n",
    "    '''given a list of movie dictionaries and a keyword, \n",
    "    returns a list of movies that contains the keyword'''\n",
    "    idx = 0\n",
    "    while idx < len(movies):\n",
    "        movie = movies[idx]\n",
    "        if (keyword not in movie['title']) and (keyword not in movie[\"genres\"]) and  (keyword not in movie[\"directors\"]) and (keyword not in movie[\"actors\"]):\n",
    "            movies.pop(idx)\n",
    "        else:\n",
    "            idx += 1\n",
    "    return movies"
   ]
  },
  {
   "cell_type": "code",
   "execution_count": 21,
   "id": "e740b690",
   "metadata": {},
   "outputs": [
    {
     "data": {
      "text/plain": [
       "[{'title': 'Harry Potter and the Deathly Hallows: Part 1',\n",
       "  'year': 2010,\n",
       "  'genres': ['Adventure', 'Family', 'Fantasy'],\n",
       "  'duration': 146,\n",
       "  'directors': ['David Yates'],\n",
       "  'actors': ['Bill Nighy', 'Emma Watson', 'Richard Griffiths'],\n",
       "  'rating': 7.7},\n",
       " {'title': 'Harry Potter and the Chamber of Secrets',\n",
       "  'year': 2002,\n",
       "  'genres': ['Adventure', 'Family', 'Fantasy'],\n",
       "  'duration': 161,\n",
       "  'directors': ['Chris Columbus'],\n",
       "  'actors': ['Daniel Radcliffe', 'Rupert Grint', 'Emma Watson'],\n",
       "  'rating': 7.4},\n",
       " {'title': 'Harry Potter and the Deathly Hallows: Part 2',\n",
       "  'year': 2011,\n",
       "  'genres': ['Adventure', 'Drama', 'Fantasy'],\n",
       "  'duration': 130,\n",
       "  'directors': ['David Yates'],\n",
       "  'actors': ['Ralph Fiennes', 'Michael Gambon'],\n",
       "  'rating': 8.1},\n",
       " {'title': 'Harry Potter and the Half-Blood Prince',\n",
       "  'year': 2009,\n",
       "  'genres': ['Action', 'Adventure', 'Family'],\n",
       "  'duration': 153,\n",
       "  'directors': ['David Yates'],\n",
       "  'actors': ['Daniel Radcliffe', 'Michael Gambon', 'Dave Legeno'],\n",
       "  'rating': 7.6},\n",
       " {'title': 'Harry Potter and the Prisoner of Azkaban',\n",
       "  'year': 2004,\n",
       "  'genres': ['Adventure', 'Family', 'Fantasy'],\n",
       "  'duration': 142,\n",
       "  'directors': ['Alfonso Cuarón'],\n",
       "  'actors': ['Daniel Radcliffe', 'Richard Griffiths', 'Pam Ferris'],\n",
       "  'rating': 7.9},\n",
       " {'title': 'Harry Potter and the Order of the Phoenix',\n",
       "  'year': 2007,\n",
       "  'genres': ['Action', 'Adventure', 'Family'],\n",
       "  'duration': 138,\n",
       "  'directors': ['David Yates'],\n",
       "  'actors': ['Daniel Radcliffe', 'Harry Melling'],\n",
       "  'rating': 7.5},\n",
       " {'title': 'Harry Potter and the Goblet of Fire',\n",
       "  'year': 2005,\n",
       "  'genres': ['Adventure', 'Family', 'Fantasy'],\n",
       "  'duration': 157,\n",
       "  'directors': ['Mike Newell'],\n",
       "  'actors': ['Eric Sykes',\n",
       "   'Timothy Spall',\n",
       "   'David Tennant',\n",
       "   'Daniel Radcliffe',\n",
       "   'Emma Watson'],\n",
       "  'rating': 7.7},\n",
       " {'title': \"Harry Potter and the Sorcerer's Stone\",\n",
       "  'year': 2001,\n",
       "  'genres': ['Adventure', 'Family', 'Fantasy'],\n",
       "  'duration': 152,\n",
       "  'directors': ['Chris Columbus'],\n",
       "  'actors': ['Richard Harris',\n",
       "   'Maggie Smith',\n",
       "   'Robbie Coltrane',\n",
       "   'Daniel Radcliffe',\n",
       "   'Fiona Shaw'],\n",
       "  'rating': 7.6}]"
      ]
     },
     "execution_count": 21,
     "metadata": {},
     "output_type": "execute_result"
    }
   ],
   "source": [
    "#q14\n",
    "import copy\n",
    "movies_harry = copy.copy(movies)\n",
    "search_bar(movies_harry, \"Harry Potter\")"
   ]
  },
  {
   "cell_type": "code",
   "execution_count": 22,
   "id": "34fc862e",
   "metadata": {},
   "outputs": [
    {
     "data": {
      "text/plain": [
       "['Action',\n",
       " 'Adventure',\n",
       " 'Crime',\n",
       " 'Sci-Fi',\n",
       " 'Drama',\n",
       " 'Thriller',\n",
       " 'Comedy',\n",
       " 'Family',\n",
       " 'Romance',\n",
       " 'Mystery']"
      ]
     },
     "execution_count": 22,
     "metadata": {},
     "output_type": "execute_result"
    }
   ],
   "source": [
    "#q15\n",
    "movies_paul = copy.copy(movies)\n",
    "paul_movies = search_bar(movies_paul, \"Paul Walker\")\n",
    "paul_genres = []\n",
    "for dic in paul_movies:\n",
    "    for genre in dic['genres']:\n",
    "        if genre not in paul_genres:\n",
    "            paul_genres.append(genre)\n",
    "paul_genres\n",
    "    "
   ]
  },
  {
   "cell_type": "code",
   "execution_count": 23,
   "id": "78abd8b3",
   "metadata": {},
   "outputs": [],
   "source": [
    "def genre_search_bar(movies):\n",
    "    '''given a list of movie dictionaries, \n",
    "    returns a dict in which the key is the genre and \n",
    "    the value is a list of all movies that contain that genre'''\n",
    "    genre_dict = {}\n",
    "    for dic in movies:\n",
    "        for genre in dic['genres']:\n",
    "            if genre not in genre_dict:\n",
    "                genre_dict[genre] = []\n",
    "            genre_dict[genre].append(dic)\n",
    "    return genre_dict\n",
    "    #TODO: initialize a dictionary\n",
    "    #TODO: loop through all movies\n",
    "    #TODO: loop through all genres in this movie\n",
    "    #TODO: if this genre is not a key in our dictionary, set the value associted with this genre to an empty list\n",
    "    #TODO: if we already have this genre in our dictionary, append the movie to the list associated with this genre"
   ]
  },
  {
   "cell_type": "code",
   "execution_count": 24,
   "id": "19b8a88e",
   "metadata": {
    "scrolled": false
   },
   "outputs": [
    {
     "data": {
      "text/plain": [
       "['Action',\n",
       " 'Horror',\n",
       " 'Sci-Fi',\n",
       " 'Crime',\n",
       " 'Thriller',\n",
       " 'Comedy',\n",
       " 'Drama',\n",
       " 'Romance',\n",
       " 'History',\n",
       " 'Adventure',\n",
       " 'Western',\n",
       " 'Family',\n",
       " 'Fantasy',\n",
       " 'War',\n",
       " 'Sport',\n",
       " 'Biography',\n",
       " 'Mystery',\n",
       " 'Film-Noir',\n",
       " 'Music',\n",
       " 'Animation',\n",
       " 'Musical',\n",
       " 'Reality-TV',\n",
       " 'Documentary',\n",
       " 'News']"
      ]
     },
     "execution_count": 24,
     "metadata": {},
     "output_type": "execute_result"
    }
   ],
   "source": [
    "#q16\n",
    "movies_unique = copy.copy(movies)\n",
    "genres_dict = genre_search_bar(movies_unique)\n",
    "unique_genres = []\n",
    "for key in genres_dict:\n",
    "    unique_genres.append(key)\n",
    "unique_genres"
   ]
  },
  {
   "cell_type": "code",
   "execution_count": 25,
   "id": "c02629ed",
   "metadata": {},
   "outputs": [
    {
     "data": {
      "text/plain": [
       "5611"
      ]
     },
     "execution_count": 25,
     "metadata": {},
     "output_type": "execute_result"
    }
   ],
   "source": [
    "#q17\n",
    "len(genres_dict['Action'])"
   ]
  },
  {
   "cell_type": "code",
   "execution_count": 26,
   "id": "7acb9a31",
   "metadata": {},
   "outputs": [
    {
     "data": {
      "text/plain": [
       "5.721581311769985"
      ]
     },
     "execution_count": 26,
     "metadata": {},
     "output_type": "execute_result"
    }
   ],
   "source": [
    "#q18\n",
    "total = 0\n",
    "for movie in genres_dict['Comedy']:\n",
    "    total += movie['rating']\n",
    "total / len(genres_dict['Comedy'])"
   ]
  },
  {
   "cell_type": "code",
   "execution_count": 27,
   "id": "99a593af",
   "metadata": {},
   "outputs": [
    {
     "data": {
      "text/plain": [
       "['Drama',\n",
       " 'Mystery',\n",
       " 'Thriller',\n",
       " 'Action',\n",
       " 'History',\n",
       " 'Adventure',\n",
       " 'Sci-Fi',\n",
       " 'Crime']"
      ]
     },
     "execution_count": 27,
     "metadata": {},
     "output_type": "execute_result"
    }
   ],
   "source": [
    "#q19\n",
    "movies_chris = copy.copy(movies)\n",
    "chris_search = search_bar(movies_chris, \"Christopher Nolan\")\n",
    "chris_genres = genre_search_bar(chris_search)\n",
    "unique_chris = []\n",
    "for key in chris_genres:\n",
    "    unique_chris.append(key)\n",
    "unique_chris"
   ]
  },
  {
   "cell_type": "code",
   "execution_count": 28,
   "id": "2f03331c",
   "metadata": {},
   "outputs": [
    {
     "data": {
      "text/plain": [
       "'Drama'"
      ]
     },
     "execution_count": 28,
     "metadata": {},
     "output_type": "execute_result"
    }
   ],
   "source": [
    "#q20\n",
    "movies_kristen = copy.copy(movies)\n",
    "kristen_search = search_bar(movies_kristen, \"Kristen Stewart\")\n",
    "kristen_genres = genre_search_bar(kristen_search)\n",
    "most_movies = None\n",
    "most_key = None\n",
    "for key in kristen_genres:\n",
    "    if most_movies == None or len(kristen_genres[key]) > most_movies:\n",
    "        most_movies = len(kristen_genres[key])\n",
    "        most_key = key\n",
    "most_key"
   ]
  },
  {
   "cell_type": "code",
   "execution_count": null,
   "id": "db0adff5",
   "metadata": {},
   "outputs": [],
   "source": []
  }
 ],
 "metadata": {
  "kernelspec": {
   "display_name": "Python 3",
   "language": "python",
   "name": "python3"
  },
  "language_info": {
   "codemirror_mode": {
    "name": "ipython",
    "version": 3
   },
   "file_extension": ".py",
   "mimetype": "text/x-python",
   "name": "python",
   "nbconvert_exporter": "python",
   "pygments_lexer": "ipython3",
   "version": "3.8.8"
  }
 },
 "nbformat": 4,
 "nbformat_minor": 5
}
