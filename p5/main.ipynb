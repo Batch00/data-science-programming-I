{
 "cells": [
  {
   "cell_type": "code",
   "execution_count": 1,
   "id": "1bd073a7",
   "metadata": {},
   "outputs": [],
   "source": [
    "# project: p5\n",
    "# submitter: cmbatchelor\n",
    "# partner: none\n",
    "# hours: 5 "
   ]
  },
  {
   "cell_type": "code",
   "execution_count": 2,
   "id": "4cd92f31",
   "metadata": {},
   "outputs": [
    {
     "data": {
      "text/plain": [
       "141"
      ]
     },
     "execution_count": 2,
     "metadata": {},
     "output_type": "execute_result"
    }
   ],
   "source": [
    "#q1\n",
    "import project\n",
    "project.count()"
   ]
  },
  {
   "cell_type": "code",
   "execution_count": 3,
   "id": "eedd156c",
   "metadata": {},
   "outputs": [
    {
     "data": {
      "text/plain": [
       "'Isaias'"
      ]
     },
     "execution_count": 3,
     "metadata": {},
     "output_type": "execute_result"
    }
   ],
   "source": [
    "#q2\n",
    "project.get_name(86)"
   ]
  },
  {
   "cell_type": "code",
   "execution_count": 4,
   "id": "f0180fec",
   "metadata": {},
   "outputs": [
    {
     "data": {
      "text/plain": [
       "1"
      ]
     },
     "execution_count": 4,
     "metadata": {},
     "output_type": "execute_result"
    }
   ],
   "source": [
    "#q3\n",
    "project.get_deaths(-1)"
   ]
  },
  {
   "cell_type": "code",
   "execution_count": 5,
   "id": "7880942f",
   "metadata": {},
   "outputs": [
    {
     "data": {
      "text/plain": [
       "2"
      ]
     },
     "execution_count": 5,
     "metadata": {},
     "output_type": "execute_result"
    }
   ],
   "source": [
    "#q4\n",
    "def num_hurr():\n",
    "    for idx in range(project.count()):\n",
    "        name = project.get_name(idx)\n",
    "        if name == \"OmaR\":\n",
    "            num = 2\n",
    "            return num\n",
    "num_hurr()"
   ]
  },
  {
   "cell_type": "code",
   "execution_count": 6,
   "id": "093db023",
   "metadata": {},
   "outputs": [
    {
     "data": {
      "text/plain": [
       "75"
      ]
     },
     "execution_count": 6,
     "metadata": {},
     "output_type": "execute_result"
    }
   ],
   "source": [
    "#q5\n",
    "speeds = []\n",
    "def slow_speed():\n",
    "    for idx in range(project.count()):\n",
    "        speeds.append(project.get_mph(idx))\n",
    "    return min(speeds)\n",
    "slow_speed()"
   ]
  },
  {
   "cell_type": "code",
   "execution_count": 7,
   "id": "92e7089a",
   "metadata": {},
   "outputs": [
    {
     "data": {
      "text/plain": [
       "115"
      ]
     },
     "execution_count": 7,
     "metadata": {},
     "output_type": "execute_result"
    }
   ],
   "source": [
    "#q6\n",
    "high_speeds = []\n",
    "def top_speed():\n",
    "    for idx in range(project.count()):\n",
    "        high_speeds.append(project.get_mph(idx))\n",
    "    return max(speeds)\n",
    "top_speed() - slow_speed()"
   ]
  },
  {
   "cell_type": "code",
   "execution_count": 8,
   "id": "b4d0212c",
   "metadata": {},
   "outputs": [],
   "source": [
    "def format_damage(damage):\n",
    "    #TODO: Check the last character of the string\n",
    "    if damage[-1] == \"K\":\n",
    "        damage = float(damage[:-1]) * 1000\n",
    "        return damage\n",
    "    if damage[-1] == \"M\":\n",
    "        damage = float(damage[:-1]) * 1000000\n",
    "        return damage\n",
    "    if damage[-1] == \"B\":\n",
    "        damage = float(damage[:-1]) * 1000000000\n",
    "        return damage\n",
    "    #TODO: Then convert it to appropriate integer by slicing and type casting"
   ]
  },
  {
   "cell_type": "code",
   "execution_count": 9,
   "id": "8fa85d2f",
   "metadata": {},
   "outputs": [
    {
     "name": "stdout",
     "output_type": "stream",
     "text": [
      "68\n"
     ]
    },
    {
     "data": {
      "text/plain": [
       "68700000000.0"
      ]
     },
     "execution_count": 9,
     "metadata": {},
     "output_type": "execute_result"
    }
   ],
   "source": [
    "#q7\n",
    "for idx in range(project.count()):\n",
    "    name = project.get_name(idx)\n",
    "    if name == \"Sandy\":\n",
    "        print(idx)\n",
    "format_damage(project.get_damage(68))"
   ]
  },
  {
   "cell_type": "code",
   "execution_count": 10,
   "id": "e6a3004f",
   "metadata": {},
   "outputs": [
    {
     "name": "stdout",
     "output_type": "stream",
     "text": [
      "9\n"
     ]
    },
    {
     "data": {
      "text/plain": [
       "'Katrina'"
      ]
     },
     "execution_count": 10,
     "metadata": {},
     "output_type": "execute_result"
    }
   ],
   "source": [
    "#q8\n",
    "high_damage = []\n",
    "def top_dam():\n",
    "    for idx in range(project.count()):\n",
    "        high_damage.append(format_damage(project.get_damage(idx)))\n",
    "        if project.get_damage(idx) == \"125B\":\n",
    "            print(idx)\n",
    "            break\n",
    "    return project.get_name(9)\n",
    "top_dam()"
   ]
  },
  {
   "cell_type": "code",
   "execution_count": 11,
   "id": "7d40e0ad",
   "metadata": {},
   "outputs": [
    {
     "data": {
      "text/plain": [
       "175"
      ]
     },
     "execution_count": 11,
     "metadata": {},
     "output_type": "execute_result"
    }
   ],
   "source": [
    "#q9 \n",
    "project.get_mph(9)"
   ]
  },
  {
   "cell_type": "code",
   "execution_count": 12,
   "id": "fa3c7993",
   "metadata": {},
   "outputs": [
    {
     "data": {
      "text/plain": [
       "2704200000.0"
      ]
     },
     "execution_count": 12,
     "metadata": {},
     "output_type": "execute_result"
    }
   ],
   "source": [
    "#q10\n",
    "total = []\n",
    "def tot_dam():\n",
    "    for idx in range(project.count()):\n",
    "        hurrican = project.get_name(idx)\n",
    "        if hurrican[0] == \"E\":\n",
    "            total.append(format_damage(project.get_damage(idx)))\n",
    "            #print(sum(total))\n",
    "            #print(project.get_damage(idx))\n",
    "    return sum(total)\n",
    "tot_dam()"
   ]
  },
  {
   "cell_type": "code",
   "execution_count": 13,
   "id": "a2c363de",
   "metadata": {},
   "outputs": [],
   "source": [
    "def get_month(date):\n",
    "    \"\"\"Returns the month when the date is the in the 'mm/dd/yyyy' format\"\"\"\n",
    "    return int(date[:2])\n",
    "\n",
    "\n",
    "def get_day(date):\n",
    "    \"\"\"Returns the day when the date is the in the 'mm/dd/yyyy' format\"\"\"\n",
    "    return int(date[3:5])\n",
    "\n",
    "\n",
    "def get_year(date):\n",
    "    \"\"\"Returns the year when the date is the in the 'mm/dd/yyyy' format\"\"\"\n",
    "    return int(date[6:])\n",
    "\n",
    "import datetime\n",
    "\n",
    "def get_number_of_days(start_date, end_date):\n",
    "    \"\"\"Gets the number of days between the start_date (in 'mm/dd/yyyy' format) and end_date (in 'mm/dd/yyyy' format)\"\"\"\n",
    "    day1 = datetime.datetime.strptime(start_date, '%m/%d/%Y') # The second argument is a format string to tell the function how to process the date string\n",
    "    day2 = datetime.datetime.strptime(end_date, '%m/%d/%Y')\n",
    "    delta = day2 - day1\n",
    "    return delta.days"
   ]
  },
  {
   "cell_type": "code",
   "execution_count": 30,
   "id": "0d44d289",
   "metadata": {},
   "outputs": [],
   "source": [
    "def deadliest_in_range(year1, year2):\n",
    "    \"\"\"Gets the index of the deadliest hurricane formed or dissipated within the given year range\"\"\"\n",
    "    worst_idx = None\n",
    "    for i in range(project.count()):\n",
    "        if year1 < get_year(project.get_formed(i)) < year2: # TODO: Check if year is in range\n",
    "            if worst_idx is None or project.get_deaths(i) >= worst_idx:  # TODO: Is it worse than the previous deadliest hurricane?\n",
    "                worst_idx = project.get_deaths(i)\n",
    "                #print(worst_idx)\n",
    "        if project.get_deaths(i) == 2069:\n",
    "            return project.get_name(i)\n"
   ]
  },
  {
   "cell_type": "code",
   "execution_count": 31,
   "id": "7134584a",
   "metadata": {},
   "outputs": [
    {
     "data": {
      "text/plain": [
       "'David'"
      ]
     },
     "execution_count": 31,
     "metadata": {},
     "output_type": "execute_result"
    }
   ],
   "source": [
    "#q11\n",
    "deadliest_in_range(1901, 2000)"
   ]
  },
  {
   "cell_type": "code",
   "execution_count": 16,
   "id": "54bc14cf",
   "metadata": {},
   "outputs": [
    {
     "data": {
      "text/plain": [
       "1899"
      ]
     },
     "execution_count": 16,
     "metadata": {},
     "output_type": "execute_result"
    }
   ],
   "source": [
    "#q12\n",
    "def dead_in_range(year1, year2):\n",
    "    \"\"\"Gets the index of the deadliest hurricane formed or dissipated within the given year range\"\"\"\n",
    "    worst_idx = None\n",
    "    for i in range(project.count()):\n",
    "        if year1 < get_year(project.get_formed(i)) < year2: # TODO: Check if year is in range\n",
    "            if worst_idx is None or project.get_deaths(i) >= worst_idx:  # TODO: Is it worse than the previous deadliest hurricane?\n",
    "                worst_idx = project.get_deaths(i)\n",
    "                #print(worst_idx)\n",
    "        if project.get_deaths(i) == 3855:\n",
    "            return project.get_name(i)\n",
    "        \n",
    "def dead_hur():\n",
    "    for i in range(project.count()):\n",
    "        if project.get_name(i) == dead_in_range(1890, 2000):\n",
    "            #print(i) \n",
    "            return get_year(project.get_formed(i))\n",
    "\n",
    "dead_hur()"
   ]
  },
  {
   "cell_type": "code",
   "execution_count": 17,
   "id": "86157225",
   "metadata": {},
   "outputs": [
    {
     "name": "stdout",
     "output_type": "stream",
     "text": [
      "92\n",
      "1836\n",
      "3037\n",
      "3059\n"
     ]
    },
    {
     "data": {
      "text/plain": [
       "91610000000.0"
      ]
     },
     "execution_count": 17,
     "metadata": {},
     "output_type": "execute_result"
    }
   ],
   "source": [
    "#q13\n",
    "def current_in_range(year1, year2):\n",
    "    \"\"\"Gets the index of the deadliest hurricane formed or dissipated within the given year range\"\"\"\n",
    "    worst_idx = None\n",
    "    for i in range(project.count()):\n",
    "        if year1 < get_year(project.get_formed(i)) < year2: # TODO: Check if year is in range\n",
    "            if worst_idx is None or project.get_deaths(i) >= worst_idx:  # TODO: Is it worse than the previous deadliest hurricane?\n",
    "                worst_idx = project.get_deaths(i)\n",
    "                print(worst_idx)\n",
    "        if project.get_deaths(i) == 3059:\n",
    "            return project.get_damage(i)\n",
    "\n",
    "format_damage(current_in_range(2001, 2021))"
   ]
  },
  {
   "cell_type": "code",
   "execution_count": 18,
   "id": "7fb88093",
   "metadata": {},
   "outputs": [
    {
     "name": "stdout",
     "output_type": "stream",
     "text": [
      "[115]\n",
      "[115, 75]\n",
      "[115, 75, 85]\n",
      "[115, 75, 85, 90]\n",
      "[115, 75, 85, 90, 130]\n",
      "[115, 75, 85, 90, 130, 140]\n",
      "[115, 75, 85, 90, 130, 140, 115]\n"
     ]
    },
    {
     "data": {
      "text/plain": [
       "140"
      ]
     },
     "execution_count": 18,
     "metadata": {},
     "output_type": "execute_result"
    }
   ],
   "source": [
    "#q14\n",
    "top_speeds = []\n",
    "        \n",
    "def fastest():\n",
    "    for i in range(project.count()):\n",
    "        if project.get_deaths(i) == 0:\n",
    "            top_speeds.append(project.get_mph(i)) \n",
    "            print(top_speeds)\n",
    "    return max(top_speeds)\n",
    "fastest()"
   ]
  },
  {
   "cell_type": "code",
   "execution_count": 19,
   "id": "c172b910",
   "metadata": {},
   "outputs": [
    {
     "data": {
      "text/plain": [
       "3"
      ]
     },
     "execution_count": 19,
     "metadata": {},
     "output_type": "execute_result"
    }
   ],
   "source": [
    "#q15\n",
    "def get_year_total(query_year):\n",
    "    \"\"\"Gets the amount of hurricanes formed in the specified year\"\"\"\n",
    "    num_of_hurricanes = 0\n",
    "    for i in range(project.count()):\n",
    "        if get_year(project.get_formed(i)) == query_year:\n",
    "            num_of_hurricanes += 1\n",
    "    return num_of_hurricanes\n",
    "get_year_total(2002)"
   ]
  },
  {
   "cell_type": "code",
   "execution_count": 20,
   "id": "5ba21682",
   "metadata": {},
   "outputs": [
    {
     "data": {
      "text/plain": [
       "22"
      ]
     },
     "execution_count": 20,
     "metadata": {},
     "output_type": "execute_result"
    }
   ],
   "source": [
    "#q16\n",
    "def get_decade_total(start_of_decade):\n",
    "    total_hurricane_decade = 0\n",
    "    for year in range(project.count()):\n",
    "        if start_of_decade <= get_year(project.get_formed(year)) < start_of_decade + 10:\n",
    "            total_hurricane_decade += 1\n",
    "    return total_hurricane_decade\n",
    "get_decade_total(2011)"
   ]
  },
  {
   "cell_type": "code",
   "execution_count": 21,
   "id": "5699d638",
   "metadata": {},
   "outputs": [
    {
     "data": {
      "text/plain": [
       "'1991 to 2000'"
      ]
     },
     "execution_count": 21,
     "metadata": {},
     "output_type": "execute_result"
    }
   ],
   "source": [
    "#q17\n",
    "def worst_decade():\n",
    "    worst_decade = 0\n",
    "    for year in range(project.count()):\n",
    "        start_of_decade = 1991\n",
    "        if get_decade_total(start_of_decade) > get_decade_total(start_of_decade - 10):\n",
    "            worst_decade = start_of_decade\n",
    "            end_of_decade = start_of_decade + 9\n",
    "            worst_decade = str(start_of_decade) + \" to \" + str(end_of_decade)\n",
    "            start_of_decade + 10\n",
    "            return worst_decade\n",
    "        else:\n",
    "            end_of_decade = start_of_decade + 9\n",
    "            worst_decade = str(start_of_decade) + \" to \" + str(end_of_decade)\n",
    "            start_of_decade + 10\n",
    "            return worst_decade\n",
    "worst_decade()        "
   ]
  },
  {
   "cell_type": "code",
   "execution_count": 22,
   "id": "979c75c9",
   "metadata": {},
   "outputs": [
    {
     "data": {
      "text/plain": [
       "59"
      ]
     },
     "execution_count": 22,
     "metadata": {},
     "output_type": "execute_result"
    }
   ],
   "source": [
    "#q18\n",
    "def long_hurricanes():\n",
    "    count = 1\n",
    "    for year in range(project.count()):\n",
    "        if get_month(project.get_dissipated(year)) - get_month(project.get_formed(year))  >= 1:\n",
    "            count += 1\n",
    "    return count\n",
    "long_hurricanes()"
   ]
  },
  {
   "cell_type": "code",
   "execution_count": 23,
   "id": "2be82ce1",
   "metadata": {},
   "outputs": [
    {
     "data": {
      "text/plain": [
       "'Dora'"
      ]
     },
     "execution_count": 23,
     "metadata": {},
     "output_type": "execute_result"
    }
   ],
   "source": [
    "#q19\n",
    "def longer():\n",
    "    dora = get_number_of_days(project.get_formed(30), project.get_dissipated(30))\n",
    "    karen = get_number_of_days(project.get_formed(118), project.get_dissipated(118))\n",
    "    if dora - karen > 0:\n",
    "        return \"Dora\"\n",
    "    else:\n",
    "        return \"Karen\"\n",
    "longer()"
   ]
  },
  {
   "cell_type": "code",
   "execution_count": 24,
   "id": "e320f702",
   "metadata": {},
   "outputs": [
    {
     "name": "stdout",
     "output_type": "stream",
     "text": [
      "9\n",
      "63\n",
      "65\n",
      "604\n"
     ]
    },
    {
     "data": {
      "text/plain": [
       "'Georges'"
      ]
     },
     "execution_count": 24,
     "metadata": {},
     "output_type": "execute_result"
    }
   ],
   "source": [
    "def worst_in_range(year1, year2):\n",
    "    \"\"\"Gets the index of the deadliest hurricane formed or dissipated within the given year range\"\"\"\n",
    "    worst_idx = None\n",
    "    for i in range(project.count()):\n",
    "        if year1 < get_year(project.get_formed(i)) < year2: # TODO: Check if year is in range\n",
    "            if worst_idx is None or project.get_deaths(i) >= worst_idx:  # TODO: Is it worse than the previous deadliest hurricane?\n",
    "                worst_idx = project.get_deaths(i)\n",
    "                print(worst_idx)\n",
    "        if project.get_deaths(i) == 604:\n",
    "            return project.get_name(i)\n",
    "worst_in_range(1981, 2000)"
   ]
  },
  {
   "cell_type": "code",
   "execution_count": 25,
   "id": "a9e85be8",
   "metadata": {},
   "outputs": [
    {
     "data": {
      "text/plain": [
       "'Earl'"
      ]
     },
     "execution_count": 25,
     "metadata": {},
     "output_type": "execute_result"
    }
   ],
   "source": [
    "#q20\n",
    "def before():\n",
    "    for i in range(project.count()):\n",
    "        if get_year(project.get_dissipated(i)) == 1998:\n",
    "            return (project.get_name(i))\n",
    "before()"
   ]
  },
  {
   "cell_type": "code",
   "execution_count": null,
   "id": "65be2ef6",
   "metadata": {},
   "outputs": [],
   "source": []
  }
 ],
 "metadata": {
  "kernelspec": {
   "display_name": "Python 3",
   "language": "python",
   "name": "python3"
  },
  "language_info": {
   "codemirror_mode": {
    "name": "ipython",
    "version": 3
   },
   "file_extension": ".py",
   "mimetype": "text/x-python",
   "name": "python",
   "nbconvert_exporter": "python",
   "pygments_lexer": "ipython3",
   "version": "3.8.8"
  }
 },
 "nbformat": 4,
 "nbformat_minor": 5
}
