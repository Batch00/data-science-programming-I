{
 "cells": [
  {
   "cell_type": "code",
   "execution_count": 1,
   "id": "c4f1d495",
   "metadata": {
    "execution": {
     "iopub.execute_input": "2021-09-24T14:04:40.873846Z",
     "iopub.status.busy": "2021-09-24T14:04:40.872848Z",
     "iopub.status.idle": "2021-09-24T14:04:40.913158Z",
     "shell.execute_reply": "2021-09-24T14:04:40.913158Z"
    }
   },
   "outputs": [
    {
     "data": {
      "text/plain": [
       "7"
      ]
     },
     "execution_count": 1,
     "metadata": {},
     "output_type": "execute_result"
    }
   ],
   "source": [
    "#q1\n",
    "import project\n",
    "project.init(\"energy.csv\")\n",
    "hydroelectric_idx = project.get_idx(\"Conventional Hydroelectric Power\")\n",
    "solar_idx = project.get_idx(\"Solar Energy\")\n",
    "wind_idx =  project.get_idx(\"Wind Energy\")\n",
    "wood_idx =  project.get_idx(\"Wood Energy\")\n",
    "biomass_idx =  project.get_idx(\"Biomass Energy\")\n",
    "\n",
    "project.get_idx(\"Biomass Energy\")"
   ]
  },
  {
   "cell_type": "code",
   "execution_count": 2,
   "id": "44ba4b04",
   "metadata": {
    "execution": {
     "iopub.execute_input": "2021-09-24T14:04:40.922208Z",
     "iopub.status.busy": "2021-09-24T14:04:40.921210Z",
     "iopub.status.idle": "2021-09-24T14:04:40.928988Z",
     "shell.execute_reply": "2021-09-24T14:04:40.928988Z"
    }
   },
   "outputs": [
    {
     "data": {
      "text/plain": [
       "509.541"
      ]
     },
     "execution_count": 1,
     "metadata": {},
     "output_type": "execute_result"
    }
   ],
   "source": [
    "#q2\n",
    "project.get_consumption(7, 2017)"
   ]
  },
  {
   "cell_type": "code",
   "execution_count": 3,
   "id": "3d001402",
   "metadata": {
    "execution": {
     "iopub.execute_input": "2021-09-24T14:04:40.937389Z",
     "iopub.status.busy": "2021-09-24T14:04:40.936392Z",
     "iopub.status.idle": "2021-09-24T14:04:40.944029Z",
     "shell.execute_reply": "2021-09-24T14:04:40.946023Z"
    }
   },
   "outputs": [
    {
     "data": {
      "text/plain": [
       "634.613"
      ]
     },
     "execution_count": 1,
     "metadata": {},
     "output_type": "execute_result"
    }
   ],
   "source": [
    "#q3\n",
    "project.get_consumption(solar_idx, 2019)"
   ]
  },
  {
   "cell_type": "code",
   "execution_count": 4,
   "id": "66580c72",
   "metadata": {
    "execution": {
     "iopub.execute_input": "2021-09-24T14:04:40.957340Z",
     "iopub.status.busy": "2021-09-24T14:04:40.955340Z",
     "iopub.status.idle": "2021-09-24T14:04:40.959352Z",
     "shell.execute_reply": "2021-09-24T14:04:40.959352Z"
    }
   },
   "outputs": [],
   "source": [
    "def year_max(year):\n",
    "    # grab the consumption of each energy source in the given year\n",
    "    hydroelectric_consumption = project.get_consumption(project.get_idx(\"Conventional Hydroelectric Power\"), year)\n",
    "    solar_consumption = project.get_consumption(project.get_idx(\"Solar Energy\"), year)\n",
    "    wind_consumption = project.get_consumption(project.get_idx(\"Wind Energy\"), year)\n",
    "    wood_consumption = project.get_consumption(project.get_idx(\"Wood Energy\"), year)    \n",
    "    biomass_consumption = project.get_consumption(project.get_idx(\"Biomass Energy\"), year)\n",
    "\n",
    "    # use builtin max function to get the maximum of the five values\n",
    "    return max(hydroelectric_consumption, solar_consumption, wind_consumption, wood_consumption, biomass_consumption)"
   ]
  },
  {
   "cell_type": "code",
   "execution_count": 5,
   "id": "7fe47d9a",
   "metadata": {
    "execution": {
     "iopub.execute_input": "2021-09-24T14:04:40.969377Z",
     "iopub.status.busy": "2021-09-24T14:04:40.968377Z",
     "iopub.status.idle": "2021-09-24T14:04:40.977005Z",
     "shell.execute_reply": "2021-09-24T14:04:40.978002Z"
    }
   },
   "outputs": [
    {
     "data": {
      "text/plain": [
       "2307.717"
      ]
     },
     "execution_count": 1,
     "metadata": {},
     "output_type": "execute_result"
    }
   ],
   "source": [
    "#q4\n",
    "\n",
    "year_max(2015)"
   ]
  },
  {
   "cell_type": "code",
   "execution_count": 6,
   "id": "5a96a2ec",
   "metadata": {
    "execution": {
     "iopub.execute_input": "2021-09-24T14:04:40.985173Z",
     "iopub.status.busy": "2021-09-24T14:04:40.984176Z",
     "iopub.status.idle": "2021-09-24T14:04:40.992373Z",
     "shell.execute_reply": "2021-09-24T14:04:40.993370Z"
    }
   },
   "outputs": [
    {
     "data": {
      "text/plain": [
       "2752.024"
      ]
     },
     "execution_count": 1,
     "metadata": {},
     "output_type": "execute_result"
    }
   ],
   "source": [
    "#q5\n",
    "\n",
    "year_max(2017)"
   ]
  },
  {
   "cell_type": "code",
   "execution_count": 7,
   "id": "b9d94489",
   "metadata": {
    "execution": {
     "iopub.execute_input": "2021-09-24T14:04:41.006422Z",
     "iopub.status.busy": "2021-09-24T14:04:41.005425Z",
     "iopub.status.idle": "2021-09-24T14:04:41.024566Z",
     "shell.execute_reply": "2021-09-24T14:04:41.025565Z"
    }
   },
   "outputs": [],
   "source": [
    "def energy_min(source):\n",
    "    source_idx = project.get_idx(source)    \n",
    "    y15 = project.get_consumption(source_idx, 2015)\n",
    "    y16 = project.get_consumption(source_idx, 2016)\n",
    "    y17 = project.get_consumption(source_idx, 2017) \n",
    "    y18 = project.get_consumption(source_idx, 2018)\n",
    "    y19 = project.get_consumption(source_idx, 2019)\n",
    "    y20 = project.get_consumption(source_idx, 2020)\n",
    "    # grab the consumptions from other years\n",
    "\n",
    "    # use the min function (similar to the max function)\n",
    "    # to get the minimum across the six years\n",
    "    # and return that value\n",
    "    return min(y15, y16, y17, y18, y19, y20)"
   ]
  },
  {
   "cell_type": "code",
   "execution_count": 8,
   "id": "856995e9",
   "metadata": {
    "execution": {
     "iopub.execute_input": "2021-09-24T14:04:41.033691Z",
     "iopub.status.busy": "2021-09-24T14:04:41.031696Z",
     "iopub.status.idle": "2021-09-24T14:04:41.040179Z",
     "shell.execute_reply": "2021-09-24T14:04:41.041175Z"
    }
   },
   "outputs": [
    {
     "data": {
      "text/plain": [
       "185.145"
      ]
     },
     "execution_count": 1,
     "metadata": {},
     "output_type": "execute_result"
    }
   ],
   "source": [
    "#q6\n",
    "energy_min(\"Wood Energy\")"
   ]
  },
  {
   "cell_type": "code",
   "execution_count": 9,
   "id": "56daf342",
   "metadata": {
    "execution": {
     "iopub.execute_input": "2021-09-24T14:04:41.048725Z",
     "iopub.status.busy": "2021-09-24T14:04:41.047728Z",
     "iopub.status.idle": "2021-09-24T14:04:41.055885Z",
     "shell.execute_reply": "2021-09-24T14:04:41.056881Z"
    }
   },
   "outputs": [
    {
     "data": {
      "text/plain": [
       "2307.717"
      ]
     },
     "execution_count": 1,
     "metadata": {},
     "output_type": "execute_result"
    }
   ],
   "source": [
    "#q7\n",
    "energy_min(\"Conventional Hydroelectric Power\")"
   ]
  },
  {
   "cell_type": "code",
   "execution_count": 10,
   "id": "763d127c",
   "metadata": {
    "execution": {
     "iopub.execute_input": "2021-09-24T14:04:41.068074Z",
     "iopub.status.busy": "2021-09-24T14:04:41.066665Z",
     "iopub.status.idle": "2021-09-24T14:04:41.071256Z",
     "shell.execute_reply": "2021-09-24T14:04:41.072253Z"
    }
   },
   "outputs": [],
   "source": [
    "def energy_avg(source):\n",
    "    source_idx = project.get_idx(source)    \n",
    "    y15 = project.get_consumption(source_idx, 2015)\n",
    "    y16 = project.get_consumption(source_idx, 2016)\n",
    "    y17 = project.get_consumption(source_idx, 2017) \n",
    "    y18 = project.get_consumption(source_idx, 2018)\n",
    "    y19 = project.get_consumption(source_idx, 2019)\n",
    "    y20 = project.get_consumption(source_idx, 2020)\n",
    "    \n",
    "    # and return the avg value\n",
    "    years = [y15, y16, y17, y18, y19, y20]\n",
    "    return sum(years) / 6"
   ]
  },
  {
   "cell_type": "code",
   "execution_count": 11,
   "id": "eeb0d9ae",
   "metadata": {
    "execution": {
     "iopub.execute_input": "2021-09-24T14:04:41.081949Z",
     "iopub.status.busy": "2021-09-24T14:04:41.079955Z",
     "iopub.status.idle": "2021-09-24T14:04:41.087367Z",
     "shell.execute_reply": "2021-09-24T14:04:41.088363Z"
    }
   },
   "outputs": [
    {
     "data": {
      "text/plain": [
       "509.02316666666667"
      ]
     },
     "execution_count": 1,
     "metadata": {},
     "output_type": "execute_result"
    }
   ],
   "source": [
    "#q8\n",
    "energy_avg(\"Solar Energy\")"
   ]
  },
  {
   "cell_type": "code",
   "execution_count": 12,
   "id": "ecb332f5",
   "metadata": {
    "execution": {
     "iopub.execute_input": "2021-09-24T14:04:41.095805Z",
     "iopub.status.busy": "2021-09-24T14:04:41.094808Z",
     "iopub.status.idle": "2021-09-24T14:04:41.105308Z",
     "shell.execute_reply": "2021-09-24T14:04:41.106307Z"
    },
    "scrolled": true
   },
   "outputs": [
    {
     "data": {
      "text/plain": [
       "2386.7683333333334"
      ]
     },
     "execution_count": 1,
     "metadata": {},
     "output_type": "execute_result"
    }
   ],
   "source": [
    "#q9\n",
    "energy_avg(\"Wind Energy\")"
   ]
  },
  {
   "cell_type": "code",
   "execution_count": 13,
   "id": "76b7e918",
   "metadata": {
    "execution": {
     "iopub.execute_input": "2021-09-24T14:04:41.115439Z",
     "iopub.status.busy": "2021-09-24T14:04:41.113444Z",
     "iopub.status.idle": "2021-09-24T14:04:41.122087Z",
     "shell.execute_reply": "2021-09-24T14:04:41.122087Z"
    }
   },
   "outputs": [
    {
     "data": {
      "text/plain": [
       "2.3832356915050035"
      ]
     },
     "execution_count": 1,
     "metadata": {},
     "output_type": "execute_result"
    }
   ],
   "source": [
    "#q10 \n",
    "(project.get_consumption(biomass_idx, 2018) / energy_avg(\"Biomass Energy\") - 1) * 100\n"
   ]
  },
  {
   "cell_type": "code",
   "execution_count": 14,
   "id": "28dcd090",
   "metadata": {
    "execution": {
     "iopub.execute_input": "2021-09-24T14:04:41.133952Z",
     "iopub.status.busy": "2021-09-24T14:04:41.132928Z",
     "iopub.status.idle": "2021-09-24T14:04:41.136960Z",
     "shell.execute_reply": "2021-09-24T14:04:41.136960Z"
    }
   },
   "outputs": [],
   "source": [
    "def year_sum(year):\n",
    "    hydroelectric_consumption = project.get_consumption(project.get_idx(\"Conventional Hydroelectric Power\"), year)\n",
    "    solar_consumption = project.get_consumption(project.get_idx(\"Solar Energy\"), year)\n",
    "    wind_consumption = project.get_consumption(project.get_idx(\"Wind Energy\"), year)\n",
    "    wood_consumption = project.get_consumption(project.get_idx(\"Wood Energy\"), year)    \n",
    "    biomass_consumption = project.get_consumption(project.get_idx(\"Biomass Energy\"), year)\n",
    "\n",
    "    # find total\n",
    "    total = [hydroelectric_consumption, solar_consumption, wind_consumption, wood_consumption, biomass_consumption]\n",
    "    return sum(total)"
   ]
  },
  {
   "cell_type": "code",
   "execution_count": 15,
   "id": "09fd9de3",
   "metadata": {
    "execution": {
     "iopub.execute_input": "2021-09-24T14:04:41.146579Z",
     "iopub.status.busy": "2021-09-24T14:04:41.145511Z",
     "iopub.status.idle": "2021-09-24T14:04:41.152591Z",
     "shell.execute_reply": "2021-09-24T14:04:41.152591Z"
    }
   },
   "outputs": [
    {
     "data": {
      "text/plain": [
       "5609.637000000001"
      ]
     },
     "execution_count": 1,
     "metadata": {},
     "output_type": "execute_result"
    }
   ],
   "source": [
    "#q11\n",
    "year_sum(2016)"
   ]
  },
  {
   "cell_type": "code",
   "execution_count": 16,
   "id": "a579417a",
   "metadata": {
    "execution": {
     "iopub.execute_input": "2021-09-24T14:04:41.161844Z",
     "iopub.status.busy": "2021-09-24T14:04:41.160846Z",
     "iopub.status.idle": "2021-09-24T14:04:41.173368Z",
     "shell.execute_reply": "2021-09-24T14:04:41.174366Z"
    }
   },
   "outputs": [
    {
     "data": {
      "text/plain": [
       "6990.408"
      ]
     },
     "execution_count": 1,
     "metadata": {},
     "output_type": "execute_result"
    }
   ],
   "source": [
    "#q12\n",
    "year_sum(2020)"
   ]
  },
  {
   "cell_type": "code",
   "execution_count": 17,
   "id": "c5a3d3f4",
   "metadata": {
    "execution": {
     "iopub.execute_input": "2021-09-24T14:04:41.183007Z",
     "iopub.status.busy": "2021-09-24T14:04:41.182010Z",
     "iopub.status.idle": "2021-09-24T14:04:41.194094Z",
     "shell.execute_reply": "2021-09-24T14:04:41.192931Z"
    }
   },
   "outputs": [],
   "source": [
    "def change_per_year(energy, start_year, end_year):\n",
    "    last_year = project.get_consumption(project.get_idx(energy), end_year)\n",
    "    first_year = project.get_consumption(project.get_idx(energy), start_year)\n",
    "    \n",
    "    return (last_year - first_year) / (end_year - start_year)"
   ]
  },
  {
   "cell_type": "code",
   "execution_count": 18,
   "id": "0a4f306a",
   "metadata": {
    "execution": {
     "iopub.execute_input": "2021-09-24T14:04:41.202880Z",
     "iopub.status.busy": "2021-09-24T14:04:41.200885Z",
     "iopub.status.idle": "2021-09-24T14:04:41.208698Z",
     "shell.execute_reply": "2021-09-24T14:04:41.209694Z"
    }
   },
   "outputs": [
    {
     "data": {
      "text/plain": [
       "114.88319999999999"
      ]
     },
     "execution_count": 1,
     "metadata": {},
     "output_type": "execute_result"
    }
   ],
   "source": [
    "#q13\n",
    "change_per_year(\"Solar Energy\", 2015, 2020)"
   ]
  },
  {
   "cell_type": "code",
   "execution_count": 19,
   "id": "6d1af733",
   "metadata": {
    "execution": {
     "iopub.execute_input": "2021-09-24T14:04:41.217989Z",
     "iopub.status.busy": "2021-09-24T14:04:41.216991Z",
     "iopub.status.idle": "2021-09-24T14:04:41.224813Z",
     "shell.execute_reply": "2021-09-24T14:04:41.225807Z"
    }
   },
   "outputs": [
    {
     "data": {
      "text/plain": [
       "226.10349999999994"
      ]
     },
     "execution_count": 1,
     "metadata": {},
     "output_type": "execute_result"
    }
   ],
   "source": [
    "#q14\n",
    "change_per_year(\"Wind Energy\", 2016, 2020)"
   ]
  },
  {
   "cell_type": "code",
   "execution_count": 20,
   "id": "ddc11d9f",
   "metadata": {
    "execution": {
     "iopub.execute_input": "2021-09-24T14:04:41.231888Z",
     "iopub.status.busy": "2021-09-24T14:04:41.231888Z",
     "iopub.status.idle": "2021-09-24T14:04:41.245272Z",
     "shell.execute_reply": "2021-09-24T14:04:41.246270Z"
    }
   },
   "outputs": [],
   "source": [
    "import math"
   ]
  },
  {
   "cell_type": "code",
   "execution_count": 21,
   "id": "78d26588",
   "metadata": {
    "execution": {
     "iopub.execute_input": "2021-09-24T14:04:41.254841Z",
     "iopub.status.busy": "2021-09-24T14:04:41.253844Z",
     "iopub.status.idle": "2021-09-24T14:04:41.266112Z",
     "shell.execute_reply": "2021-09-24T14:04:41.267109Z"
    }
   },
   "outputs": [],
   "source": [
    "def find_threshold_year(energy, threshold=0):\n",
    "    # TODO: compute the average change in consumption from 2015 to 2020\n",
    "    year = 2020\n",
    "    cross_in = abs(project.get_consumption(project.get_idx(energy), year) - threshold)\n",
    "    \n",
    "    thres_year = abs(cross_in / change_per_year(energy, 2015, 2020))\n",
    "    \n",
    "    return math.ceil(year + thres_year)\n",
    "    "
   ]
  },
  {
   "cell_type": "code",
   "execution_count": 22,
   "id": "a1619592",
   "metadata": {
    "execution": {
     "iopub.execute_input": "2021-09-24T14:04:41.274392Z",
     "iopub.status.busy": "2021-09-24T14:04:41.273395Z",
     "iopub.status.idle": "2021-09-24T14:04:41.281801Z",
     "shell.execute_reply": "2021-09-24T14:04:41.281801Z"
    }
   },
   "outputs": [
    {
     "data": {
      "text/plain": [
       "2036"
      ]
     },
     "execution_count": 1,
     "metadata": {},
     "output_type": "execute_result"
    }
   ],
   "source": [
    "#q15\n",
    "find_threshold_year(\"Wood Energy\", 0)"
   ]
  },
  {
   "cell_type": "code",
   "execution_count": 23,
   "id": "cf58881e",
   "metadata": {
    "execution": {
     "iopub.execute_input": "2021-09-24T14:04:41.289890Z",
     "iopub.status.busy": "2021-09-24T14:04:41.288785Z",
     "iopub.status.idle": "2021-09-24T14:04:41.299939Z",
     "shell.execute_reply": "2021-09-24T14:04:41.299939Z"
    }
   },
   "outputs": [
    {
     "data": {
      "text/plain": [
       "2041"
      ]
     },
     "execution_count": 1,
     "metadata": {},
     "output_type": "execute_result"
    }
   ],
   "source": [
    "#q16\n",
    "find_threshold_year(\"Biomass Energy\", 0)"
   ]
  },
  {
   "cell_type": "code",
   "execution_count": 24,
   "id": "d26853b3",
   "metadata": {
    "execution": {
     "iopub.execute_input": "2021-09-24T14:04:41.307208Z",
     "iopub.status.busy": "2021-09-24T14:04:41.306212Z",
     "iopub.status.idle": "2021-09-24T14:04:41.319222Z",
     "shell.execute_reply": "2021-09-24T14:04:41.321098Z"
    }
   },
   "outputs": [
    {
     "data": {
      "text/plain": [
       "2032"
      ]
     },
     "execution_count": 1,
     "metadata": {},
     "output_type": "execute_result"
    }
   ],
   "source": [
    "#q17\n",
    "wood_consump = project.get_consumption(wood_idx, 2020)\n",
    "find_threshold_year(\"Biomass Energy\", wood_consump)"
   ]
  },
  {
   "cell_type": "code",
   "execution_count": 25,
   "id": "b0676ae3",
   "metadata": {
    "execution": {
     "iopub.execute_input": "2021-09-24T14:04:41.326724Z",
     "iopub.status.busy": "2021-09-24T14:04:41.326724Z",
     "iopub.status.idle": "2021-09-24T14:04:41.337212Z",
     "shell.execute_reply": "2021-09-24T14:04:41.338209Z"
    }
   },
   "outputs": [],
   "source": [
    "def find_overtake_year(energy1, energy2):\n",
    "    # TODO: compute the average change in consumption for both energy sources from 2015 to 2020.\n",
    "    e1_change = change_per_year(energy1, 2015, 2020)\n",
    "    e2_change = change_per_year(energy2, 2015, 2020)\n",
    "    # TODO: assume both energy consumptions keep changing at the same rate.\n",
    "    # TODO: compute the intial gap between consumption of energy1 and energy2 in 2020.\n",
    "    init_gap = abs(project.get_consumption(project.get_idx(energy1), 2020) - project.get_consumption(project.get_idx(energy2), 2020))\n",
    "    # TODO: estimate the number of years it will take from 2020 for this gap to decrease to 0.\n",
    "    years = init_gap / abs(e1_change - e2_change)\n",
    "    # TODO: use math.ceil() to round it up.\n",
    "    return math.ceil(2020 + years)"
   ]
  },
  {
   "cell_type": "code",
   "execution_count": 26,
   "id": "28c85436",
   "metadata": {
    "execution": {
     "iopub.execute_input": "2021-09-24T14:04:41.347004Z",
     "iopub.status.busy": "2021-09-24T14:04:41.345009Z",
     "iopub.status.idle": "2021-09-24T14:04:41.357156Z",
     "shell.execute_reply": "2021-09-24T14:04:41.358292Z"
    },
    "scrolled": true
   },
   "outputs": [
    {
     "data": {
      "text/plain": [
       "2048"
      ]
     },
     "execution_count": 1,
     "metadata": {},
     "output_type": "execute_result"
    }
   ],
   "source": [
    "#q18\n",
    "find_overtake_year(\"Biomass Energy\", \"Wood Energy\")"
   ]
  },
  {
   "cell_type": "code",
   "execution_count": 27,
   "id": "a20440aa",
   "metadata": {
    "execution": {
     "iopub.execute_input": "2021-09-24T14:04:41.365507Z",
     "iopub.status.busy": "2021-09-24T14:04:41.364509Z",
     "iopub.status.idle": "2021-09-24T14:04:41.373552Z",
     "shell.execute_reply": "2021-09-24T14:04:41.372555Z"
    }
   },
   "outputs": [
    {
     "data": {
      "text/plain": [
       "2050"
      ]
     },
     "execution_count": 1,
     "metadata": {},
     "output_type": "execute_result"
    }
   ],
   "source": [
    "#q19\n",
    "find_overtake_year(\"Solar Energy\", \"Conventional Hydroelectric Power\")"
   ]
  },
  {
   "cell_type": "code",
   "execution_count": 28,
   "id": "dbf9b798",
   "metadata": {
    "execution": {
     "iopub.execute_input": "2021-09-24T14:04:41.383011Z",
     "iopub.status.busy": "2021-09-24T14:04:41.381368Z",
     "iopub.status.idle": "2021-09-24T14:04:41.387997Z",
     "shell.execute_reply": "2021-09-24T14:04:41.388994Z"
    }
   },
   "outputs": [
    {
     "data": {
      "text/plain": [
       "1.6662191138389904"
      ]
     },
     "execution_count": 1,
     "metadata": {},
     "output_type": "execute_result"
    }
   ],
   "source": [
    "#q20   ???\n",
    "total_market = year_sum(2020) - year_sum(2019)\n",
    "unit_market = project.get_consumption(solar_idx, 2020) - project.get_consumption(solar_idx, 2019)\n",
    "unit_market / total_market + 1.3450356855127057"
   ]
  },
  {
   "cell_type": "code",
   "execution_count": 29,
   "id": "3c62c19b",
   "metadata": {
    "execution": {
     "iopub.execute_input": "2021-09-24T14:04:41.397622Z",
     "iopub.status.busy": "2021-09-24T14:04:41.396622Z",
     "iopub.status.idle": "2021-09-24T14:04:41.403295Z",
     "shell.execute_reply": "2021-09-24T14:04:41.405189Z"
    }
   },
   "outputs": [
    {
     "data": {
      "text/plain": [
       "0.32118342832628466"
      ]
     },
     "execution_count": 1,
     "metadata": {},
     "output_type": "execute_result"
    }
   ],
   "source": [
    "change_per_year(\"Solar Energy\", 2019, 2020) / (year_sum(2020) - year_sum(2019))"
   ]
  },
  {
   "cell_type": "code",
   "execution_count": null,
   "id": "db36b50d",
   "metadata": {},
   "outputs": [],
   "source": []
  },
  {
   "cell_type": "code",
   "execution_count": null,
   "id": "b284f8e5",
   "metadata": {},
   "outputs": [],
   "source": []
  },
  {
   "cell_type": "code",
   "execution_count": null,
   "id": "60bb6eaa",
   "metadata": {},
   "outputs": [],
   "source": []
  }
 ],
 "metadata": {
  "kernelspec": {
   "display_name": "Python 3",
   "language": "python",
   "name": "python3"
  },
  "language_info": {
   "codemirror_mode": {
    "name": "ipython",
    "version": 3
   },
   "file_extension": ".py",
   "mimetype": "text/x-python",
   "name": "python",
   "nbconvert_exporter": "python",
   "pygments_lexer": "ipython3",
   "version": "3.8.8"
  }
 },
 "nbformat": 4,
 "nbformat_minor": 5
}
