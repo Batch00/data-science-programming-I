{
 "cells": [
  {
   "cell_type": "code",
   "execution_count": 1,
   "id": "af675c2e",
   "metadata": {
    "execution": {
     "iopub.execute_input": "2021-10-15T21:53:56.243299Z",
     "iopub.status.busy": "2021-10-15T21:53:56.241299Z",
     "iopub.status.idle": "2021-10-15T21:53:56.249306Z",
     "shell.execute_reply": "2021-10-15T21:53:56.249306Z"
    }
   },
   "outputs": [],
   "source": [
    "# project: p6\n",
    "# submitter: cmbatchelor\n",
    "# partner: none\n",
    "# hours: 5 "
   ]
  },
  {
   "cell_type": "code",
   "execution_count": 2,
   "id": "7cb0fb9e",
   "metadata": {
    "execution": {
     "iopub.execute_input": "2021-10-15T21:53:56.253307Z",
     "iopub.status.busy": "2021-10-15T21:53:56.253307Z",
     "iopub.status.idle": "2021-10-15T21:53:56.439359Z",
     "shell.execute_reply": "2021-10-15T21:53:56.440359Z"
    }
   },
   "outputs": [],
   "source": [
    "import csv\n",
    "\n",
    "# Modified from https://automatetheboringstuff.com/chapter14/\n",
    "def process_csv(filename):\n",
    "    example_file = open(filename, encoding=\"utf-8\")\n",
    "    example_reader = csv.reader(example_file)\n",
    "    example_data = list(example_reader)\n",
    "    example_file.close()\n",
    "    return example_data\n",
    "\n",
    "# Use process_csv to pull out the header and data rows\n",
    "csv_rows = process_csv(\"airbnb.csv\")\n",
    "csv_header = csv_rows[0] # A list of the column headers\n",
    "csv_data = csv_rows[1:] # The entire CSV data set besides the headers"
   ]
  },
  {
   "cell_type": "code",
   "execution_count": 3,
   "id": "11e42f8f",
   "metadata": {
    "execution": {
     "iopub.execute_input": "2021-10-15T21:53:56.445359Z",
     "iopub.status.busy": "2021-10-15T21:53:56.445359Z",
     "iopub.status.idle": "2021-10-15T21:53:56.456376Z",
     "shell.execute_reply": "2021-10-15T21:53:56.457376Z"
    }
   },
   "outputs": [],
   "source": [
    "def cell(row_idx, col_name):\n",
    "    col_idx = csv_header.index(col_name)\n",
    "    val = csv_data[row_idx][col_idx]\n",
    "    if val == \"\":\n",
    "        return None\n",
    "    elif col_name == \"price\":\n",
    "        return int(val)\n",
    "    elif col_name == \"latitude\":\n",
    "        return float(val)\n",
    "    elif col_name == \"longitude\":\n",
    "        return float(val)\n",
    "    elif col_name == \"minimum_nights\":\n",
    "        return int(val)\n",
    "    elif col_name == \"nummber_of_reviews\":\n",
    "        return int(val)\n",
    "    elif col_name == \"reviews_per_month\":\n",
    "        return float(val)\n",
    "    elif col_name == \"calculated_host_listings_count\":\n",
    "        return int(val)\n",
    "    elif col_name == \"availability_365\":\n",
    "        return int(val)\n",
    "    # optional: convert types based on column name, \n",
    "    # ensuring that the float and int values are appropriately converted\n",
    "    return val"
   ]
  },
  {
   "cell_type": "code",
   "execution_count": 4,
   "id": "f3af9b15",
   "metadata": {
    "execution": {
     "iopub.execute_input": "2021-10-15T21:53:56.461377Z",
     "iopub.status.busy": "2021-10-15T21:53:56.460378Z",
     "iopub.status.idle": "2021-10-15T21:53:56.711448Z",
     "shell.execute_reply": "2021-10-15T21:53:56.712449Z"
    }
   },
   "outputs": [],
   "source": [
    "airbnb_data = process_csv('airbnb.csv')\n",
    "header = airbnb_data[0]\n",
    "#header"
   ]
  },
  {
   "cell_type": "code",
   "execution_count": 5,
   "id": "50b18cdd",
   "metadata": {
    "execution": {
     "iopub.execute_input": "2021-10-15T21:53:56.746457Z",
     "iopub.status.busy": "2021-10-15T21:53:56.745455Z",
     "iopub.status.idle": "2021-10-15T21:53:56.760071Z",
     "shell.execute_reply": "2021-10-15T21:53:56.760071Z"
    }
   },
   "outputs": [
    {
     "data": {
      "text/plain": [
       "['Brooklyn', 'Queens', 'Manhattan', 'Bronx', 'Staten Island']"
      ]
     },
     "execution_count": 1,
     "metadata": {},
     "output_type": "execute_result"
    }
   ],
   "source": [
    "#q1\n",
    "neighbor_groups = csv_data[header.index(\"neighborhood_group\"):]\n",
    "dif_neighbors = set()\n",
    "for row in neighbor_groups:\n",
    "    dif_neighbors.add(row[header.index(\"neighborhood_group\")])\n",
    "    #print(row[header.index(\"neighborhood_group\")])\n",
    "list(dif_neighbors)"
   ]
  },
  {
   "cell_type": "code",
   "execution_count": 6,
   "id": "4c074fa7",
   "metadata": {
    "execution": {
     "iopub.execute_input": "2021-10-15T21:53:56.794078Z",
     "iopub.status.busy": "2021-10-15T21:53:56.793078Z",
     "iopub.status.idle": "2021-10-15T21:53:56.807063Z",
     "shell.execute_reply": "2021-10-15T21:53:56.808063Z"
    }
   },
   "outputs": [
    {
     "data": {
      "text/plain": [
       "23"
      ]
     },
     "execution_count": 1,
     "metadata": {},
     "output_type": "execute_result"
    }
   ],
   "source": [
    "#q2\n",
    "import math\n",
    "reviews = csv_data[header.index(\"number_of_reviews\"):]\n",
    "num_rev = []\n",
    "for row in reviews:\n",
    "    num_rev.append(int(row[header.index(\"number_of_reviews\")]))\n",
    "math.floor(sum(num_rev) / len(num_rev))"
   ]
  },
  {
   "cell_type": "code",
   "execution_count": 7,
   "id": "fedc2fae",
   "metadata": {
    "execution": {
     "iopub.execute_input": "2021-10-15T21:53:56.829067Z",
     "iopub.status.busy": "2021-10-15T21:53:56.828065Z",
     "iopub.status.idle": "2021-10-15T21:53:56.838394Z",
     "shell.execute_reply": "2021-10-15T21:53:56.839394Z"
    },
    "scrolled": false
   },
   "outputs": [
    {
     "data": {
      "text/plain": [
       "358"
      ]
     },
     "execution_count": 1,
     "metadata": {},
     "output_type": "execute_result"
    }
   ],
   "source": [
    "#q3\n",
    "count = 0\n",
    "for row in csv_data[header.index(\"neighborhood\"):]:\n",
    "    #print(row[header.index(\"neighborhood\")])\n",
    "    if row[header.index(\"neighborhood\")] == \"SoHo\":\n",
    "        count += 1\n",
    "count"
   ]
  },
  {
   "cell_type": "code",
   "execution_count": 8,
   "id": "9f2e4193",
   "metadata": {
    "execution": {
     "iopub.execute_input": "2021-10-15T21:53:56.842393Z",
     "iopub.status.busy": "2021-10-15T21:53:56.842393Z",
     "iopub.status.idle": "2021-10-15T21:53:56.853597Z",
     "shell.execute_reply": "2021-10-15T21:53:56.854598Z"
    }
   },
   "outputs": [],
   "source": [
    "def find_room_names(contained):\n",
    "    # TODO: create a list\n",
    "    rooms = []\n",
    "    for row in csv_data[header.index(\"name\"):]:\n",
    "        if contained.lower() in row[header.index(\"name\")].lower():\n",
    "            rooms.append(row[header.index(\"name\")])\n",
    "    #print(rooms)\n",
    "    return rooms"
   ]
  },
  {
   "cell_type": "code",
   "execution_count": 9,
   "id": "50494f7e",
   "metadata": {
    "execution": {
     "iopub.execute_input": "2021-10-15T21:53:56.880604Z",
     "iopub.status.busy": "2021-10-15T21:53:56.880604Z",
     "iopub.status.idle": "2021-10-15T21:53:56.887605Z",
     "shell.execute_reply": "2021-10-15T21:53:56.886604Z"
    },
    "scrolled": true
   },
   "outputs": [
    {
     "data": {
      "text/plain": [
       "['The Epic: Right by MSG',\n",
       " 'Lavish 3 bedroom near Penn Station / MSG',\n",
       " 'Stately Midtown Studio w/ Doorman, Gym, near MSG by Blueground',\n",
       " 'Room Near Times Square/Javits/Hells Kitchen/MSG',\n",
       " 'Cheery Midtown 1BR w/ Doorman + Gym, near MSG by Blueground',\n",
       " 'Homey Hudson Yards w/ Gym + Doorman, near MSG by Blueground',\n",
       " 'Private Room With Kitchen Across From MSG',\n",
       " 'Accessible Two Bedded Suite With Kitchen near MSG',\n",
       " 'Two Beds in Private Room near Times Square and MSG',\n",
       " 'Private and Spacious Queen Room Across From MSG',\n",
       " 'Comfy Kips Bay 1BR w/ Gym, Doorman + Sundecks, walk to MSG by Blueground',\n",
       " 'A+ Chelsea Location! MSG, Javits, Penn!',\n",
       " 'Heart of Williamsburg living for 1-5 msg!',\n",
       " '3 Bedroom by MSG + Empire State',\n",
       " 'Next to Times Square/Javits/MSG! Amazing 1BR!']"
      ]
     },
     "execution_count": 1,
     "metadata": {},
     "output_type": "execute_result"
    }
   ],
   "source": [
    "#q4\n",
    "find_room_names(\"MSG\")"
   ]
  },
  {
   "cell_type": "code",
   "execution_count": 10,
   "id": "c894c44c",
   "metadata": {
    "execution": {
     "iopub.execute_input": "2021-10-15T21:53:56.938618Z",
     "iopub.status.busy": "2021-10-15T21:53:56.937616Z",
     "iopub.status.idle": "2021-10-15T21:53:56.949627Z",
     "shell.execute_reply": "2021-10-15T21:53:56.949627Z"
    },
    "scrolled": true
   },
   "outputs": [
    {
     "data": {
      "text/plain": [
       "['Brooklyn townhouse for filming',\n",
       " 'Cinema Studio on Duplex Apt.',\n",
       " 'Cool apartment in Brooklyn with free cinema & gym',\n",
       " 'Stunning Chelsea 1BR w/ Gym, W/D, Doorman, Sundeck, Cinema, by Blueground',\n",
       " \"Downtown Filmmaker's Loft by WTC\",\n",
       " 'Sunny private room featured in film',\n",
       " 'Music Recording Mixing Film Photography Art',\n",
       " 'HUGE LUX 2FLOOR 2 BDRMSOHO LOFTw/HOME CINEMA',\n",
       " 'Clean music/film themed bedroom',\n",
       " 'Victorian Film location',\n",
       " 'TV-PHOTO-FILM-CINEMA-ART GALLERY-MUSIC STUDIO-LOFT',\n",
       " 'Premium Chelsea 1BR w/ Gym, W/D, Doorman, Sundeck, Cinema, by Blueground',\n",
       " 'WoodyAllen FilmSet-Like Digs (Apt)',\n",
       " 'Shoot. Film. Sleep. Unique Loft Space in Brooklyn.',\n",
       " 'The Otheroom Bar/Event/Filming Space -read details',\n",
       " 'Cinema + gym included with room',\n",
       " 'Modern Townhouse for Photo, Film &  Daytime Events',\n",
       " 'Film / photography location in unique apartment',\n",
       " 'WoodyAllen FilmSet-Like Digs (Room)',\n",
       " 'Film Location']"
      ]
     },
     "execution_count": 1,
     "metadata": {},
     "output_type": "execute_result"
    }
   ],
   "source": [
    "#q5\n",
    "same_rooms = set(find_room_names(\"cinema\") + find_room_names(\"film\"))\n",
    "list(same_rooms)"
   ]
  },
  {
   "cell_type": "code",
   "execution_count": 11,
   "id": "9992af9a",
   "metadata": {
    "execution": {
     "iopub.execute_input": "2021-10-15T21:53:56.956628Z",
     "iopub.status.busy": "2021-10-15T21:53:56.956628Z",
     "iopub.status.idle": "2021-10-15T21:53:56.965641Z",
     "shell.execute_reply": "2021-10-15T21:53:56.965641Z"
    }
   },
   "outputs": [],
   "source": [
    "def find_anagram(contained):\n",
    "    # TODO: create a list\n",
    "    hosts = []\n",
    "    for row in csv_data[header.index(\"host_name\"):]:\n",
    "        if sorted(row[header.index(\"host_name\")].lower()) == sorted(contained):\n",
    "            hosts.append(row[header.index(\"host_name\")])\n",
    "    return hosts"
   ]
  },
  {
   "cell_type": "code",
   "execution_count": 12,
   "id": "f7058ebd",
   "metadata": {
    "execution": {
     "iopub.execute_input": "2021-10-15T21:53:57.024655Z",
     "iopub.status.busy": "2021-10-15T21:53:57.023655Z",
     "iopub.status.idle": "2021-10-15T21:53:57.028656Z",
     "shell.execute_reply": "2021-10-15T21:53:57.028656Z"
    },
    "scrolled": true
   },
   "outputs": [
    {
     "data": {
      "text/plain": [
       "['Elias', 'Leisa', 'Elisa']"
      ]
     },
     "execution_count": 1,
     "metadata": {},
     "output_type": "execute_result"
    }
   ],
   "source": [
    "#q6\n",
    "ana = set(find_anagram(\"aisle\"))\n",
    "list(ana)"
   ]
  },
  {
   "cell_type": "code",
   "execution_count": 13,
   "id": "6667d7e1",
   "metadata": {
    "execution": {
     "iopub.execute_input": "2021-10-15T21:53:57.074665Z",
     "iopub.status.busy": "2021-10-15T21:53:57.073681Z",
     "iopub.status.idle": "2021-10-15T21:53:57.076666Z",
     "shell.execute_reply": "2021-10-15T21:53:57.077668Z"
    }
   },
   "outputs": [
    {
     "data": {
      "text/plain": [
       "['16276632',\n",
       " '18173787',\n",
       " '21550302',\n",
       " '22176831',\n",
       " '22750161',\n",
       " '28826608',\n",
       " '30423106',\n",
       " '31090222',\n",
       " '31249784',\n",
       " '32678719',\n",
       " '32678720']"
      ]
     },
     "execution_count": 1,
     "metadata": {},
     "output_type": "execute_result"
    }
   ],
   "source": [
    "#q7\n",
    "ids = []\n",
    "for row in csv_data[header.index(\"reviews_per_month\"):]:\n",
    "    if row[header.index(\"reviews_per_month\")] == '':\n",
    "        continue\n",
    "    elif float(row[header.index(\"reviews_per_month\")]) > 15.0:\n",
    "        ids.append(str(row[header.index(\"room_id\")]))\n",
    "ids"
   ]
  },
  {
   "cell_type": "code",
   "execution_count": 14,
   "id": "6198c9d4",
   "metadata": {
    "execution": {
     "iopub.execute_input": "2021-10-15T21:53:57.111674Z",
     "iopub.status.busy": "2021-10-15T21:53:57.110674Z",
     "iopub.status.idle": "2021-10-15T21:53:57.125486Z",
     "shell.execute_reply": "2021-10-15T21:53:57.125486Z"
    }
   },
   "outputs": [
    {
     "data": {
      "text/plain": [
       "51.958277942529904"
      ]
     },
     "execution_count": 1,
     "metadata": {},
     "output_type": "execute_result"
    }
   ],
   "source": [
    "#q8\n",
    "count = 0\n",
    "for row in csv_data[header.index(\"room_type\"):]:\n",
    "    if row[header.index(\"room_type\")] == \"Entire home/apt\":\n",
    "        count += 1\n",
    "count / len(csv_data) * 100\n"
   ]
  },
  {
   "cell_type": "code",
   "execution_count": 15,
   "id": "8981e397",
   "metadata": {
    "execution": {
     "iopub.execute_input": "2021-10-15T21:53:57.160494Z",
     "iopub.status.busy": "2021-10-15T21:53:57.160494Z",
     "iopub.status.idle": "2021-10-15T21:53:57.172725Z",
     "shell.execute_reply": "2021-10-15T21:53:57.172725Z"
    }
   },
   "outputs": [
    {
     "data": {
      "text/plain": [
       "['712136',\n",
       " '738588',\n",
       " '826307',\n",
       " '1598033',\n",
       " '2794725',\n",
       " '8253376',\n",
       " '9045427',\n",
       " '12914239',\n",
       " '15949915',\n",
       " '15988392',\n",
       " '17475711']"
      ]
     },
     "execution_count": 1,
     "metadata": {},
     "output_type": "execute_result"
    }
   ],
   "source": [
    "#q9\n",
    "staten = []\n",
    "for row in csv_data[header.index(\"neighborhood_group\"):]:\n",
    "    if row[header.index(\"last_review\")] == '':\n",
    "        pass\n",
    "    elif row[header.index(\"neighborhood_group\")] == \"Staten Island\":\n",
    "        if row[header.index(\"last_review\")][0:4] <= str(2017):\n",
    "            staten.append(row[header.index(\"room_id\")])\n",
    "staten"
   ]
  },
  {
   "cell_type": "code",
   "execution_count": 16,
   "id": "caf71d8a",
   "metadata": {
    "execution": {
     "iopub.execute_input": "2021-10-15T21:53:57.177725Z",
     "iopub.status.busy": "2021-10-15T21:53:57.177725Z",
     "iopub.status.idle": "2021-10-15T21:53:57.187743Z",
     "shell.execute_reply": "2021-10-15T21:53:57.188743Z"
    }
   },
   "outputs": [],
   "source": [
    "available = []\n",
    "def availability_per_host_name(host_name, neighborhood_group=None):\n",
    "    for row in csv_data[header.index(\"neighborhood_group\"):]:\n",
    "        if row[header.index(\"availability_365\")] == '':\n",
    "            continue\n",
    "        elif row[header.index(\"host_name\")] == host_name:\n",
    "            if row[header.index(\"neighborhood_group\")] == neighborhood_group or neighborhood_group == None:\n",
    "                available.append(int(row[header.index(\"availability_365\")]))\n",
    "    return available\n"
   ]
  },
  {
   "cell_type": "code",
   "execution_count": 17,
   "id": "ec2c693a",
   "metadata": {
    "execution": {
     "iopub.execute_input": "2021-10-15T21:53:57.221751Z",
     "iopub.status.busy": "2021-10-15T21:53:57.220751Z",
     "iopub.status.idle": "2021-10-15T21:53:57.236760Z",
     "shell.execute_reply": "2021-10-15T21:53:57.236760Z"
    }
   },
   "outputs": [
    {
     "data": {
      "text/plain": [
       "[360, 353, 348, 333, 321, 308, 264, 106, 15, 0]"
      ]
     },
     "execution_count": 1,
     "metadata": {},
     "output_type": "execute_result"
    }
   ],
   "source": [
    "#q10\n",
    "rep = set(availability_per_host_name(\"Stanley\", \"Brooklyn\"))\n",
    "list(sorted(rep, reverse = True))"
   ]
  },
  {
   "cell_type": "code",
   "execution_count": 18,
   "id": "1ced9897",
   "metadata": {
    "execution": {
     "iopub.execute_input": "2021-10-15T21:53:57.275766Z",
     "iopub.status.busy": "2021-10-15T21:53:57.275766Z",
     "iopub.status.idle": "2021-10-15T21:53:57.283772Z",
     "shell.execute_reply": "2021-10-15T21:53:57.283772Z"
    }
   },
   "outputs": [
    {
     "data": {
      "text/plain": [
       "253"
      ]
     },
     "execution_count": 1,
     "metadata": {},
     "output_type": "execute_result"
    }
   ],
   "source": [
    "#q11\n",
    "available = []\n",
    "def availability_per_host(host_name, neighborhood_group=None):\n",
    "    for row in csv_data[header.index(\"neighborhood_group\"):]:\n",
    "        if row[header.index(\"availability_365\")] == '':\n",
    "            continue\n",
    "        elif row[header.index(\"host_name\")] == host_name:\n",
    "            if row[header.index(\"neighborhood_group\")] == neighborhood_group or neighborhood_group == None:\n",
    "                available.append(int(row[header.index(\"availability_365\")]))\n",
    "    return available\n",
    "diff = availability_per_host(\"Helena\")\n",
    "list(sorted(diff, reverse = True))[0] - list(sorted(diff, reverse = True))[-1]"
   ]
  },
  {
   "cell_type": "code",
   "execution_count": 19,
   "id": "455fc939",
   "metadata": {
    "execution": {
     "iopub.execute_input": "2021-10-15T21:53:57.288775Z",
     "iopub.status.busy": "2021-10-15T21:53:57.287774Z",
     "iopub.status.idle": "2021-10-15T21:53:57.299786Z",
     "shell.execute_reply": "2021-10-15T21:53:57.299786Z"
    }
   },
   "outputs": [],
   "source": [
    "\n",
    "def find_prices_within(lat_min, lat_max, long_min, long_max):\n",
    "    # TODO: create a list\n",
    "    # TODO: add every price of rooms that locate in the given area to the list\n",
    "    # TODO: return the filled list of prices\n",
    "    prices = []\n",
    "    for row in csv_data[header.index(\"neighborhood_group\"):]:\n",
    "        if lat_min <= float(row[header.index(\"latitude\")]) <= lat_max:\n",
    "            if long_min <= float(row[header.index(\"longitude\")]) <= long_max:\n",
    "                prices.append(int(row[header.index(\"price\")]))\n",
    "    return prices\n"
   ]
  },
  {
   "cell_type": "code",
   "execution_count": 20,
   "id": "d6353e4d",
   "metadata": {
    "execution": {
     "iopub.execute_input": "2021-10-15T21:53:57.360800Z",
     "iopub.status.busy": "2021-10-15T21:53:57.359800Z",
     "iopub.status.idle": "2021-10-15T21:53:57.363801Z",
     "shell.execute_reply": "2021-10-15T21:53:57.364801Z"
    }
   },
   "outputs": [
    {
     "data": {
      "text/plain": [
       "169.44173261644414"
      ]
     },
     "execution_count": 1,
     "metadata": {},
     "output_type": "execute_result"
    }
   ],
   "source": [
    "#q12\n",
    "all_prices = find_prices_within(40.50, 40.75, -74.00, -73.95)\n",
    "sum(all_prices) / len(all_prices)\n"
   ]
  },
  {
   "cell_type": "code",
   "execution_count": 21,
   "id": "97ffd25a",
   "metadata": {
    "execution": {
     "iopub.execute_input": "2021-10-15T21:53:57.409811Z",
     "iopub.status.busy": "2021-10-15T21:53:57.409811Z",
     "iopub.status.idle": "2021-10-15T21:53:57.411811Z",
     "shell.execute_reply": "2021-10-15T21:53:57.412812Z"
    }
   },
   "outputs": [
    {
     "data": {
      "text/plain": [
       "10000"
      ]
     },
     "execution_count": 1,
     "metadata": {},
     "output_type": "execute_result"
    }
   ],
   "source": [
    "#q13\n",
    "high_price = find_prices_within(40.75, 41.00, -73.95, -73.85)\n",
    "max(high_price)"
   ]
  },
  {
   "cell_type": "code",
   "execution_count": 22,
   "id": "dcbc12e2",
   "metadata": {
    "execution": {
     "iopub.execute_input": "2021-10-15T21:53:57.496831Z",
     "iopub.status.busy": "2021-10-15T21:53:57.495830Z",
     "iopub.status.idle": "2021-10-15T21:53:57.507065Z",
     "shell.execute_reply": "2021-10-15T21:53:57.508065Z"
    }
   },
   "outputs": [
    {
     "data": {
      "text/plain": [
       "45.28158295281583"
      ]
     },
     "execution_count": 1,
     "metadata": {},
     "output_type": "execute_result"
    }
   ],
   "source": [
    "#q14\n",
    "percent = find_prices_within(40.50, 41.00, -74.00, -73.85)\n",
    "counts = 0\n",
    "for idx in percent:\n",
    "    if idx < 100:\n",
    "        counts += 1\n",
    "#rint(counts)\n",
    "counts / len(percent) * 100"
   ]
  },
  {
   "cell_type": "code",
   "execution_count": 23,
   "id": "fc29d1aa",
   "metadata": {
    "execution": {
     "iopub.execute_input": "2021-10-15T21:53:57.527068Z",
     "iopub.status.busy": "2021-10-15T21:53:57.527068Z",
     "iopub.status.idle": "2021-10-15T21:53:57.539387Z",
     "shell.execute_reply": "2021-10-15T21:53:57.539387Z"
    }
   },
   "outputs": [
    {
     "data": {
      "text/plain": [
       "0.27323293295076073"
      ]
     },
     "execution_count": 1,
     "metadata": {},
     "output_type": "execute_result"
    }
   ],
   "source": [
    "#q15\n",
    "def avg_ratio_avail(neighborhood):\n",
    "    ratio = []\n",
    "    for row in csv_data[header.index(\"neighborhood_group\"):]:\n",
    "        if row[header.index(\"neighborhood\")] == neighborhood:\n",
    "            if int(row[header.index(\"availability_365\")]) != 0: # or row[header.index(\"availability_365\")] != '':\n",
    "                #print(row[header.index(\"availability_365\")])\n",
    "                ratio.append((int(row[header.index(\"number_of_reviews\")]) / int(row[header.index(\"availability_365\")])))\n",
    "    return sum(ratio) / len(ratio)   \n",
    "\n",
    "avg_ratio_avail(\"Manhattan Beach\")"
   ]
  },
  {
   "cell_type": "code",
   "execution_count": 24,
   "id": "c830c7fc",
   "metadata": {
    "execution": {
     "iopub.execute_input": "2021-10-15T21:53:57.557392Z",
     "iopub.status.busy": "2021-10-15T21:53:57.556392Z",
     "iopub.status.idle": "2021-10-15T21:53:57.571412Z",
     "shell.execute_reply": "2021-10-15T21:53:57.571412Z"
    }
   },
   "outputs": [
    {
     "data": {
      "text/plain": [
       "0.04373233413721522"
      ]
     },
     "execution_count": 1,
     "metadata": {},
     "output_type": "execute_result"
    }
   ],
   "source": [
    "#q16\n",
    "avg_ratio_avail(\"Riverdale\")"
   ]
  },
  {
   "cell_type": "code",
   "execution_count": 25,
   "id": "32575a08",
   "metadata": {
    "execution": {
     "iopub.execute_input": "2021-10-15T21:53:57.594416Z",
     "iopub.status.busy": "2021-10-15T21:53:57.593415Z",
     "iopub.status.idle": "2021-10-15T21:53:57.602424Z",
     "shell.execute_reply": "2021-10-15T21:53:57.602424Z"
    }
   },
   "outputs": [],
   "source": [
    "queen = []\n",
    "for row in csv_data[header.index(\"neighborhood_group\"):]:\n",
    "    if row[header.index(\"neighborhood_group\")] == \"Queens\":\n",
    "        queen.append(row[header.index(\"neighborhood\")])\n",
    "l = set(queen)\n",
    "#list(l)"
   ]
  },
  {
   "cell_type": "code",
   "execution_count": 26,
   "id": "c93923f4",
   "metadata": {
    "execution": {
     "iopub.execute_input": "2021-10-15T21:53:57.826476Z",
     "iopub.status.busy": "2021-10-15T21:53:57.714466Z",
     "iopub.status.idle": "2021-10-15T21:53:58.994768Z",
     "shell.execute_reply": "2021-10-15T21:53:58.995780Z"
    }
   },
   "outputs": [
    {
     "data": {
      "text/plain": [
       "'Fresh Meadows'"
      ]
     },
     "execution_count": 1,
     "metadata": {},
     "output_type": "execute_result"
    }
   ],
   "source": [
    "#q17\n",
    "high_rat = []\n",
    "for row in list(l):\n",
    "    high_rat.append(avg_ratio_avail(row))\n",
    "    if avg_ratio_avail(row) == 4.399722268440213:\n",
    "        highest = row\n",
    "#max(high_rat)\n",
    "highest"
   ]
  },
  {
   "cell_type": "code",
   "execution_count": 27,
   "id": "31424883",
   "metadata": {
    "execution": {
     "iopub.execute_input": "2021-10-15T21:53:59.049781Z",
     "iopub.status.busy": "2021-10-15T21:53:59.048781Z",
     "iopub.status.idle": "2021-10-15T21:53:59.059372Z",
     "shell.execute_reply": "2021-10-15T21:53:59.059372Z"
    }
   },
   "outputs": [
    {
     "data": {
      "text/plain": [
       "3.9522598317354727"
      ]
     },
     "execution_count": 1,
     "metadata": {},
     "output_type": "execute_result"
    }
   ],
   "source": [
    "#q18\n",
    "def secondary_word_in_found_rooms(find_room_word, secondary_word):\n",
    "    denominator = len(find_room_names(find_room_word))\n",
    "    count = 0    \n",
    "    for idx in find_room_names(find_room_word):\n",
    "        #print(idx)\n",
    "        if secondary_word.lower() in idx.lower():\n",
    "            count += 1\n",
    "    #print(count)\n",
    "    return count / denominator * 100\n",
    "secondary_word_in_found_rooms(\"cozy\", \"home\")"
   ]
  },
  {
   "cell_type": "code",
   "execution_count": 28,
   "id": "50fa3ed4",
   "metadata": {
    "execution": {
     "iopub.execute_input": "2021-10-15T21:53:59.109373Z",
     "iopub.status.busy": "2021-10-15T21:53:59.109373Z",
     "iopub.status.idle": "2021-10-15T21:53:59.121700Z",
     "shell.execute_reply": "2021-10-15T21:53:59.122701Z"
    }
   },
   "outputs": [
    {
     "data": {
      "text/plain": [
       "48.92086330935252"
      ]
     },
     "execution_count": 1,
     "metadata": {},
     "output_type": "execute_result"
    }
   ],
   "source": [
    "#q19\n",
    "secondary_word_in_found_rooms(\"pool\", \"gym\")\n"
   ]
  },
  {
   "cell_type": "code",
   "execution_count": 29,
   "id": "c0046dc7",
   "metadata": {
    "execution": {
     "iopub.execute_input": "2021-10-15T21:53:59.184734Z",
     "iopub.status.busy": "2021-10-15T21:53:59.183716Z",
     "iopub.status.idle": "2021-10-15T21:53:59.186715Z",
     "shell.execute_reply": "2021-10-15T21:53:59.185715Z"
    }
   },
   "outputs": [
    {
     "data": {
      "text/plain": [
       "175"
      ]
     },
     "execution_count": 1,
     "metadata": {},
     "output_type": "execute_result"
    }
   ],
   "source": [
    "#q20\n",
    "manhat = []\n",
    "stat = []\n",
    "for row in csv_data[header.index(\"neighborhood_group\"):]:\n",
    "    if row[header.index(\"neighborhood_group\")] == \"Manhattan\":\n",
    "        if row[header.index(\"availability_365\")] != '':\n",
    "            if int(row[header.index(\"availability_365\")]) >= 10:\n",
    "                if int(row[header.index(\"minimum_nights\")]) <= 10:\n",
    "                    manhat.append(int(row[header.index(\"price\")]))\n",
    "    \n",
    "    if row[header.index(\"neighborhood_group\")] == \"Staten Island\":\n",
    "        if row[header.index(\"availability_365\")] != '':\n",
    "            if int(row[header.index(\"availability_365\")]) >= 5:\n",
    "                if int(row[header.index(\"minimum_nights\")]) <= 5:\n",
    "                    stat.append(int(row[header.index(\"price\")]))\n",
    "    \n",
    "total_cost = (min(manhat) * 10) + (min(stat) * 5)\n",
    "\n",
    "total_cost"
   ]
  },
  {
   "cell_type": "code",
   "execution_count": null,
   "id": "8ce401d1",
   "metadata": {},
   "outputs": [],
   "source": []
  }
 ],
 "metadata": {
  "kernelspec": {
   "display_name": "Python 3",
   "language": "python",
   "name": "python3"
  },
  "language_info": {
   "codemirror_mode": {
    "name": "ipython",
    "version": 3
   },
   "file_extension": ".py",
   "mimetype": "text/x-python",
   "name": "python",
   "nbconvert_exporter": "python",
   "pygments_lexer": "ipython3",
   "version": "3.8.8"
  }
 },
 "nbformat": 4,
 "nbformat_minor": 5
}
