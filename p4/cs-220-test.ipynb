{
 "cells": [
  {
   "cell_type": "code",
   "execution_count": 1,
   "id": "6c307782",
   "metadata": {
    "execution": {
     "iopub.execute_input": "2021-09-28T19:04:30.412147Z",
     "iopub.status.busy": "2021-09-28T19:04:30.410147Z",
     "iopub.status.idle": "2021-09-28T19:04:30.415148Z",
     "shell.execute_reply": "2021-09-28T19:04:30.416148Z"
    }
   },
   "outputs": [],
   "source": [
    "# project: p4\n",
    "# submitter: cmbatchelor\n",
    "# partner: none\n",
    "# hours: 1.5"
   ]
  },
  {
   "cell_type": "code",
   "execution_count": 2,
   "id": "001e56c4",
   "metadata": {
    "execution": {
     "iopub.execute_input": "2021-09-28T19:04:30.422149Z",
     "iopub.status.busy": "2021-09-28T19:04:30.422149Z",
     "iopub.status.idle": "2021-09-28T19:04:30.446220Z",
     "shell.execute_reply": "2021-09-28T19:04:30.446220Z"
    }
   },
   "outputs": [],
   "source": [
    "import project\n",
    "import math\n",
    "def damage(attacker, defender):\n",
    "    physical_damage = 10 * project.get_attack(attacker) / project.get_defense(defender)\n",
    "    special_damage = 10 * project.get_sp_atk(attacker) / project.get_sp_def(defender)\n",
    "    if physical_damage >= special_damage:\n",
    "        return physical_damage\n",
    "    else:\n",
    "        return special_damage"
   ]
  },
  {
   "cell_type": "code",
   "execution_count": 3,
   "id": "e18f806f",
   "metadata": {
    "execution": {
     "iopub.execute_input": "2021-09-28T19:04:30.457223Z",
     "iopub.status.busy": "2021-09-28T19:04:30.456237Z",
     "iopub.status.idle": "2021-09-28T19:04:30.462282Z",
     "shell.execute_reply": "2021-09-28T19:04:30.462282Z"
    }
   },
   "outputs": [
    {
     "data": {
      "text/plain": [
       "5.769230769230769"
      ]
     },
     "execution_count": 1,
     "metadata": {},
     "output_type": "execute_result"
    }
   ],
   "source": [
    "#q1\n",
    "damage(\"Scraggy\", \"Golem\")"
   ]
  },
  {
   "cell_type": "code",
   "execution_count": 4,
   "id": "d9c3d547",
   "metadata": {
    "execution": {
     "iopub.execute_input": "2021-09-28T19:04:30.465281Z",
     "iopub.status.busy": "2021-09-28T19:04:30.465281Z",
     "iopub.status.idle": "2021-09-28T19:04:30.479348Z",
     "shell.execute_reply": "2021-09-28T19:04:30.480348Z"
    }
   },
   "outputs": [
    {
     "data": {
      "text/plain": [
       "17.272727272727273"
      ]
     },
     "execution_count": 1,
     "metadata": {},
     "output_type": "execute_result"
    }
   ],
   "source": [
    "#q2\n",
    "damage(\"Magnemite\", \"Nidorina\")"
   ]
  },
  {
   "cell_type": "code",
   "execution_count": 5,
   "id": "cfe4938e",
   "metadata": {
    "execution": {
     "iopub.execute_input": "2021-09-28T19:04:30.485348Z",
     "iopub.status.busy": "2021-09-28T19:04:30.484349Z",
     "iopub.status.idle": "2021-09-28T19:04:30.494360Z",
     "shell.execute_reply": "2021-09-28T19:04:30.494360Z"
    }
   },
   "outputs": [],
   "source": [
    "def type_bonus(attack_type, defender):\n",
    "    defender_type1 = project.get_type1(defender)\n",
    "    defender_type2 = project.get_type2(defender)\n",
    "    bonus = project.get_type_effectiveness(attack_type, defender_type1)\n",
    "    if project.get_type2(defender) != 'None':\n",
    "        bonus = bonus * project.get_type_effectiveness(attack_type, defender_type2)\n",
    "    return bonus"
   ]
  },
  {
   "cell_type": "code",
   "execution_count": 6,
   "id": "1d0b22b9",
   "metadata": {
    "execution": {
     "iopub.execute_input": "2021-09-28T19:04:30.497361Z",
     "iopub.status.busy": "2021-09-28T19:04:30.497361Z",
     "iopub.status.idle": "2021-09-28T19:04:30.510379Z",
     "shell.execute_reply": "2021-09-28T19:04:30.510379Z"
    }
   },
   "outputs": [
    {
     "data": {
      "text/plain": [
       "2.0"
      ]
     },
     "execution_count": 1,
     "metadata": {},
     "output_type": "execute_result"
    }
   ],
   "source": [
    "#q3\n",
    "type_bonus(\"Electric\", \"Magikarp\")"
   ]
  },
  {
   "cell_type": "code",
   "execution_count": 7,
   "id": "d2c1b3d4",
   "metadata": {
    "execution": {
     "iopub.execute_input": "2021-09-28T19:04:30.513379Z",
     "iopub.status.busy": "2021-09-28T19:04:30.513379Z",
     "iopub.status.idle": "2021-09-28T19:04:30.526392Z",
     "shell.execute_reply": "2021-09-28T19:04:30.527393Z"
    }
   },
   "outputs": [
    {
     "data": {
      "text/plain": [
       "0.25"
      ]
     },
     "execution_count": 1,
     "metadata": {},
     "output_type": "execute_result"
    }
   ],
   "source": [
    "#q4\n",
    "type_bonus(\"Bug\", \"Gastly\")"
   ]
  },
  {
   "cell_type": "code",
   "execution_count": 8,
   "id": "730f10d2",
   "metadata": {
    "execution": {
     "iopub.execute_input": "2021-09-28T19:04:30.531393Z",
     "iopub.status.busy": "2021-09-28T19:04:30.531393Z",
     "iopub.status.idle": "2021-09-28T19:04:30.542402Z",
     "shell.execute_reply": "2021-09-28T19:04:30.542402Z"
    }
   },
   "outputs": [],
   "source": [
    "def effective_damage(attacker, defender):\n",
    "    if project.get_type2(attacker) == 'None':\n",
    "        bonus = type_bonus(project.get_type1(attacker), defender)\n",
    "    if project.get_type2(attacker) != 'None':\n",
    "        bonus = max(type_bonus(project.get_type1(attacker), defender), type_bonus(project.get_type2(attacker), defender))\n",
    "    \n",
    "    return damage(attacker, defender) * bonus"
   ]
  },
  {
   "cell_type": "code",
   "execution_count": 9,
   "id": "3230858e",
   "metadata": {
    "execution": {
     "iopub.execute_input": "2021-09-28T19:04:30.546403Z",
     "iopub.status.busy": "2021-09-28T19:04:30.545402Z",
     "iopub.status.idle": "2021-09-28T19:04:30.558419Z",
     "shell.execute_reply": "2021-09-28T19:04:30.558419Z"
    }
   },
   "outputs": [
    {
     "data": {
      "text/plain": [
       "41.06666666666667"
      ]
     },
     "execution_count": 1,
     "metadata": {},
     "output_type": "execute_result"
    }
   ],
   "source": [
    "#q5\n",
    "effective_damage(\"Mewtwo\", \"Gengar\")"
   ]
  },
  {
   "cell_type": "code",
   "execution_count": 10,
   "id": "aef31f52",
   "metadata": {
    "execution": {
     "iopub.execute_input": "2021-09-28T19:04:30.561420Z",
     "iopub.status.busy": "2021-09-28T19:04:30.560420Z",
     "iopub.status.idle": "2021-09-28T19:04:30.574430Z",
     "shell.execute_reply": "2021-09-28T19:04:30.574430Z"
    }
   },
   "outputs": [
    {
     "data": {
      "text/plain": [
       "22.5"
      ]
     },
     "execution_count": 1,
     "metadata": {},
     "output_type": "execute_result"
    }
   ],
   "source": [
    "#q6\n",
    "effective_damage(\"Wooper\", \"Pikachu\")"
   ]
  },
  {
   "cell_type": "code",
   "execution_count": 11,
   "id": "de205cee",
   "metadata": {
    "execution": {
     "iopub.execute_input": "2021-09-28T19:04:30.578431Z",
     "iopub.status.busy": "2021-09-28T19:04:30.577431Z",
     "iopub.status.idle": "2021-09-28T19:04:30.590448Z",
     "shell.execute_reply": "2021-09-28T19:04:30.590448Z"
    }
   },
   "outputs": [
    {
     "data": {
      "text/plain": [
       "12.307692307692308"
      ]
     },
     "execution_count": 1,
     "metadata": {},
     "output_type": "execute_result"
    }
   ],
   "source": [
    "#q7\n",
    "effective_damage(\"Slowpoke\", \"Steelix\")"
   ]
  },
  {
   "cell_type": "code",
   "execution_count": 12,
   "id": "049b631a",
   "metadata": {
    "execution": {
     "iopub.execute_input": "2021-09-28T19:04:30.594449Z",
     "iopub.status.busy": "2021-09-28T19:04:30.593448Z",
     "iopub.status.idle": "2021-09-28T19:04:30.606471Z",
     "shell.execute_reply": "2021-09-28T19:04:30.606471Z"
    }
   },
   "outputs": [],
   "source": [
    "def num_hits(attacker, defender):\n",
    "    return math.ceil(project.get_hp(defender) / effective_damage(attacker, defender))"
   ]
  },
  {
   "cell_type": "code",
   "execution_count": 13,
   "id": "ea1e8d2a",
   "metadata": {
    "execution": {
     "iopub.execute_input": "2021-09-28T19:04:30.609471Z",
     "iopub.status.busy": "2021-09-28T19:04:30.609471Z",
     "iopub.status.idle": "2021-09-28T19:04:30.623488Z",
     "shell.execute_reply": "2021-09-28T19:04:30.623488Z"
    }
   },
   "outputs": [
    {
     "data": {
      "text/plain": [
       "8"
      ]
     },
     "execution_count": 1,
     "metadata": {},
     "output_type": "execute_result"
    }
   ],
   "source": [
    "#q8\n",
    "num_hits(\"Metapod\", \"Slowpoke\")"
   ]
  },
  {
   "cell_type": "code",
   "execution_count": 14,
   "id": "87f3fb12",
   "metadata": {
    "execution": {
     "iopub.execute_input": "2021-09-28T19:04:30.627488Z",
     "iopub.status.busy": "2021-09-28T19:04:30.627488Z",
     "iopub.status.idle": "2021-09-28T19:04:30.638497Z",
     "shell.execute_reply": "2021-09-28T19:04:30.637497Z"
    }
   },
   "outputs": [
    {
     "data": {
      "text/plain": [
       "9"
      ]
     },
     "execution_count": 1,
     "metadata": {},
     "output_type": "execute_result"
    }
   ],
   "source": [
    "#q9\n",
    "num_hits(\"Pikachu\", \"Snivy\")"
   ]
  },
  {
   "cell_type": "code",
   "execution_count": 15,
   "id": "eb3f9cec",
   "metadata": {
    "execution": {
     "iopub.execute_input": "2021-09-28T19:04:30.644499Z",
     "iopub.status.busy": "2021-09-28T19:04:30.643499Z",
     "iopub.status.idle": "2021-09-28T19:04:30.653509Z",
     "shell.execute_reply": "2021-09-28T19:04:30.653509Z"
    }
   },
   "outputs": [],
   "source": [
    "def battle(pkmn1, pkmn2):\n",
    "    #TODO: Return the name of the pkmn that can take more hits from the other\n",
    "    # pkmn. If both pkmn faint within the same number of moves, return the\n",
    "    # string 'Draw'\n",
    "    if (num_hits(pkmn1, pkmn2) - num_hits(pkmn2, pkmn1)) > 10:\n",
    "        return pkmn1 + \" ran away\"\n",
    "    elif (num_hits(pkmn2, pkmn1) - num_hits(pkmn1, pkmn2)) > 10:\n",
    "        return pkmn2 + \" ran away\"\n",
    "    elif num_hits(pkmn1, pkmn2) > num_hits(pkmn2, pkmn1):\n",
    "        return pkmn2\n",
    "    elif num_hits(pkmn1, pkmn2) < num_hits(pkmn2, pkmn1):\n",
    "        return pkmn1\n",
    "    else:\n",
    "        if project.get_speed(pkmn1) > project.get_speed(pkmn2):\n",
    "            return pkmn1\n",
    "        elif project.get_speed(pkmn1) < project.get_speed(pkmn2):\n",
    "            return pkmn2\n",
    "        else:\n",
    "            return \"Draw\"\n",
    "    "
   ]
  },
  {
   "cell_type": "code",
   "execution_count": 16,
   "id": "7a6d0d27",
   "metadata": {
    "execution": {
     "iopub.execute_input": "2021-09-28T19:04:30.656510Z",
     "iopub.status.busy": "2021-09-28T19:04:30.656510Z",
     "iopub.status.idle": "2021-09-28T19:04:30.670527Z",
     "shell.execute_reply": "2021-09-28T19:04:30.670527Z"
    }
   },
   "outputs": [
    {
     "data": {
      "text/plain": [
       "'Sceptile'"
      ]
     },
     "execution_count": 1,
     "metadata": {},
     "output_type": "execute_result"
    }
   ],
   "source": [
    "#q10\n",
    "battle(\"Krabby\", \"Sceptile\")"
   ]
  },
  {
   "cell_type": "code",
   "execution_count": 17,
   "id": "49f664bb",
   "metadata": {
    "execution": {
     "iopub.execute_input": "2021-09-28T19:04:30.674527Z",
     "iopub.status.busy": "2021-09-28T19:04:30.674527Z",
     "iopub.status.idle": "2021-09-28T19:04:30.686534Z",
     "shell.execute_reply": "2021-09-28T19:04:30.686534Z"
    }
   },
   "outputs": [
    {
     "data": {
      "text/plain": [
       "'Heracross'"
      ]
     },
     "execution_count": 1,
     "metadata": {},
     "output_type": "execute_result"
    }
   ],
   "source": [
    "#q11\n",
    "battle(\"Heracross\", \"Blastoise\")"
   ]
  },
  {
   "cell_type": "code",
   "execution_count": 18,
   "id": "23f6757b",
   "metadata": {
    "execution": {
     "iopub.execute_input": "2021-09-28T19:04:30.694536Z",
     "iopub.status.busy": "2021-09-28T19:04:30.692536Z",
     "iopub.status.idle": "2021-09-28T19:04:30.702544Z",
     "shell.execute_reply": "2021-09-28T19:04:30.702544Z"
    }
   },
   "outputs": [
    {
     "data": {
      "text/plain": [
       "'Starly'"
      ]
     },
     "execution_count": 1,
     "metadata": {},
     "output_type": "execute_result"
    }
   ],
   "source": [
    "#q12\n",
    "battle(\"Starly\", \"Pidgey\")"
   ]
  },
  {
   "cell_type": "code",
   "execution_count": 19,
   "id": "52e10508",
   "metadata": {
    "execution": {
     "iopub.execute_input": "2021-09-28T19:04:30.705544Z",
     "iopub.status.busy": "2021-09-28T19:04:30.705544Z",
     "iopub.status.idle": "2021-09-28T19:04:30.716559Z",
     "shell.execute_reply": "2021-09-28T19:04:30.716559Z"
    }
   },
   "outputs": [
    {
     "data": {
      "text/plain": [
       "'Spearow'"
      ]
     },
     "execution_count": 1,
     "metadata": {},
     "output_type": "execute_result"
    }
   ],
   "source": [
    "#q13\n",
    "battle(\"Bulbasaur\", \"Spearow\")"
   ]
  },
  {
   "cell_type": "code",
   "execution_count": 20,
   "id": "9ff6eb9a",
   "metadata": {
    "execution": {
     "iopub.execute_input": "2021-09-28T19:04:30.719561Z",
     "iopub.status.busy": "2021-09-28T19:04:30.719561Z",
     "iopub.status.idle": "2021-09-28T19:04:30.732577Z",
     "shell.execute_reply": "2021-09-28T19:04:30.732577Z"
    }
   },
   "outputs": [
    {
     "data": {
      "text/plain": [
       "'Bellsprout ran away'"
      ]
     },
     "execution_count": 1,
     "metadata": {},
     "output_type": "execute_result"
    }
   ],
   "source": [
    "#q14\n",
    "battle('Heatran', 'Bellsprout')"
   ]
  },
  {
   "cell_type": "code",
   "execution_count": 21,
   "id": "5b304082",
   "metadata": {
    "execution": {
     "iopub.execute_input": "2021-09-28T19:04:30.735577Z",
     "iopub.status.busy": "2021-09-28T19:04:30.734577Z",
     "iopub.status.idle": "2021-09-28T19:04:30.749595Z",
     "shell.execute_reply": "2021-09-28T19:04:30.748595Z"
    }
   },
   "outputs": [
    {
     "data": {
      "text/plain": [
       "'Meditite ran away'"
      ]
     },
     "execution_count": 1,
     "metadata": {},
     "output_type": "execute_result"
    }
   ],
   "source": [
    "#q15\n",
    "battle('Meditite', 'Gyarados')"
   ]
  },
  {
   "cell_type": "code",
   "execution_count": 22,
   "id": "838b6b2e",
   "metadata": {
    "execution": {
     "iopub.execute_input": "2021-09-28T19:04:30.751594Z",
     "iopub.status.busy": "2021-09-28T19:04:30.751594Z",
     "iopub.status.idle": "2021-09-28T19:04:30.764610Z",
     "shell.execute_reply": "2021-09-28T19:04:30.764610Z"
    }
   },
   "outputs": [
    {
     "data": {
      "text/plain": [
       "'Draw'"
      ]
     },
     "execution_count": 1,
     "metadata": {},
     "output_type": "execute_result"
    }
   ],
   "source": [
    "#q16\n",
    "battle('Mudkip', 'Gulpin')"
   ]
  },
  {
   "cell_type": "code",
   "execution_count": 23,
   "id": "a429b81c",
   "metadata": {
    "execution": {
     "iopub.execute_input": "2021-09-28T19:04:30.770611Z",
     "iopub.status.busy": "2021-09-28T19:04:30.770611Z",
     "iopub.status.idle": "2021-09-28T19:04:30.781625Z",
     "shell.execute_reply": "2021-09-28T19:04:30.782625Z"
    }
   },
   "outputs": [],
   "source": [
    "def two_on_two_battle(pkmn1, pkmn2, pkmn3, pkmn4):\n",
    "    # TODO: implement the first round\n",
    "    A1 = battle(pkmn1, pkmn3)\n",
    "    A2 = battle(pkmn2, pkmn4)\n",
    "    \n",
    "    if A1 == pkmn1 and A2 == pkmn2:\n",
    "        return \"Team A wins\"\n",
    "    elif A1 == pkmn3 and A2 == pkmn4:\n",
    "        return \"Team B wins\"\n",
    "    elif A1 == \"draw\" or A1 == (pkmn1 + \"ran away\") or A1 == (pkmn3 + \"ran away\"):\n",
    "        return \"No result\"\n",
    "    elif A2 == \"draw\" or A2 == (pkmn2 + \"ran away\") or A2 == (pkmn4 + \"ran away\"):\n",
    "        return \"No result\"\n",
    "    \n",
    "    # TODO: implement the second round\n",
    "    if A1 == pkmn1 and A2 == pkmn4:\n",
    "        B1 = battle(pkmn1, pkmn4)\n",
    "        if B1 == pkmn1:\n",
    "            return \"Team A wins\"\n",
    "        elif B1 == pkmn4:\n",
    "            return \"Team B wins\"\n",
    "        elif B1 == \"draw\" or B1 == (pkmn1 + \"ran away\") or B1 == (pkmn4 + \"ran away\"):\n",
    "            return \"No result\"\n",
    "    elif A1 == pkmn3 and A2 == pkmn2:\n",
    "        B2 = battle(pkmn2, pkmn3)\n",
    "        if B2 == pkmn2:\n",
    "            return \"Team A wins\"\n",
    "        elif B2 == pkmn3:\n",
    "            return \"Team B wins\"\n",
    "        elif B2 == \"draw\" or B2 == (pkmn2 + \"ran away\") or B2 == (pkmn3 + \"ran away\"):\n",
    "            return \"No result\""
   ]
  },
  {
   "cell_type": "code",
   "execution_count": 24,
   "id": "a3577e99",
   "metadata": {
    "execution": {
     "iopub.execute_input": "2021-09-28T19:04:30.785626Z",
     "iopub.status.busy": "2021-09-28T19:04:30.785626Z",
     "iopub.status.idle": "2021-09-28T19:04:30.796643Z",
     "shell.execute_reply": "2021-09-28T19:04:30.796643Z"
    }
   },
   "outputs": [
    {
     "data": {
      "text/plain": [
       "'Team B wins'"
      ]
     },
     "execution_count": 1,
     "metadata": {},
     "output_type": "execute_result"
    }
   ],
   "source": [
    "#q17\n",
    "two_on_two_battle('Squirtle', 'Mudkip', 'Infernape', 'Charizard')"
   ]
  },
  {
   "cell_type": "code",
   "execution_count": 25,
   "id": "1d705a02",
   "metadata": {
    "execution": {
     "iopub.execute_input": "2021-09-28T19:04:30.800643Z",
     "iopub.status.busy": "2021-09-28T19:04:30.799643Z",
     "iopub.status.idle": "2021-09-28T19:04:30.812663Z",
     "shell.execute_reply": "2021-09-28T19:04:30.812663Z"
    }
   },
   "outputs": [
    {
     "data": {
      "text/plain": [
       "'Team A wins'"
      ]
     },
     "execution_count": 1,
     "metadata": {},
     "output_type": "execute_result"
    }
   ],
   "source": [
    "#q18\n",
    "two_on_two_battle(\"Umbreon\", \"Flareon\", \"Jolteon\", \"Glaceon\")"
   ]
  },
  {
   "cell_type": "code",
   "execution_count": 26,
   "id": "3a9ab4c5",
   "metadata": {
    "execution": {
     "iopub.execute_input": "2021-09-28T19:04:30.815662Z",
     "iopub.status.busy": "2021-09-28T19:04:30.815662Z",
     "iopub.status.idle": "2021-09-28T19:04:30.827681Z",
     "shell.execute_reply": "2021-09-28T19:04:30.827681Z"
    }
   },
   "outputs": [
    {
     "data": {
      "text/plain": [
       "'Team A wins'"
      ]
     },
     "execution_count": 1,
     "metadata": {},
     "output_type": "execute_result"
    }
   ],
   "source": [
    "#q19\n",
    "two_on_two_battle(\"Electivire\", \"Arcanine\", \"Greninja\", \"Charizard\")"
   ]
  },
  {
   "cell_type": "code",
   "execution_count": 27,
   "id": "c24aa706",
   "metadata": {
    "execution": {
     "iopub.execute_input": "2021-09-28T19:04:30.831681Z",
     "iopub.status.busy": "2021-09-28T19:04:30.830680Z",
     "iopub.status.idle": "2021-09-28T19:04:30.843701Z",
     "shell.execute_reply": "2021-09-28T19:04:30.843701Z"
    }
   },
   "outputs": [
    {
     "data": {
      "text/plain": [
       "'Team B wins'"
      ]
     },
     "execution_count": 1,
     "metadata": {},
     "output_type": "execute_result"
    }
   ],
   "source": [
    "#q20\n",
    "two_on_two_battle('Flygon', 'Sceptile', 'Garchomp', 'Torterra')"
   ]
  },
  {
   "cell_type": "code",
   "execution_count": null,
   "id": "36ede554",
   "metadata": {},
   "outputs": [],
   "source": []
  }
 ],
 "metadata": {
  "kernelspec": {
   "display_name": "Python 3",
   "language": "python",
   "name": "python3"
  },
  "language_info": {
   "codemirror_mode": {
    "name": "ipython",
    "version": 3
   },
   "file_extension": ".py",
   "mimetype": "text/x-python",
   "name": "python",
   "nbconvert_exporter": "python",
   "pygments_lexer": "ipython3",
   "version": "3.8.8"
  }
 },
 "nbformat": 4,
 "nbformat_minor": 5
}
