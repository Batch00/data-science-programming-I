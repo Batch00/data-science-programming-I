{
 "cells": [
  {
   "cell_type": "code",
   "execution_count": 1,
   "id": "5014d8b7",
   "metadata": {
    "execution": {
     "iopub.execute_input": "2021-09-15T13:58:35.993584Z",
     "iopub.status.busy": "2021-09-15T13:58:35.992744Z",
     "iopub.status.idle": "2021-09-15T13:58:35.996224Z",
     "shell.execute_reply": "2021-09-15T13:58:35.996722Z"
    }
   },
   "outputs": [
    {
     "data": {
      "text/plain": [
       "'Hello World!'"
      ]
     },
     "execution_count": 1,
     "metadata": {},
     "output_type": "execute_result"
    }
   ],
   "source": [
    "#q1\n",
    "name = \"World\"\n",
    "\"Hello \" + name + \"!\""
   ]
  },
  {
   "cell_type": "code",
   "execution_count": 2,
   "id": "f500815e",
   "metadata": {
    "execution": {
     "iopub.execute_input": "2021-09-15T13:58:36.000520Z",
     "iopub.status.busy": "2021-09-15T13:58:36.000020Z",
     "iopub.status.idle": "2021-09-15T13:58:36.011747Z",
     "shell.execute_reply": "2021-09-15T13:58:36.012245Z"
    }
   },
   "outputs": [
    {
     "data": {
      "text/plain": [
       "2021"
      ]
     },
     "execution_count": 1,
     "metadata": {},
     "output_type": "execute_result"
    }
   ],
   "source": [
    "#q2\n",
    "43*47"
   ]
  },
  {
   "cell_type": "code",
   "execution_count": 3,
   "id": "e989b374",
   "metadata": {
    "execution": {
     "iopub.execute_input": "2021-09-15T13:58:36.015089Z",
     "iopub.status.busy": "2021-09-15T13:58:36.014428Z",
     "iopub.status.idle": "2021-09-15T13:58:36.027353Z",
     "shell.execute_reply": "2021-09-15T13:58:36.028089Z"
    }
   },
   "outputs": [],
   "source": [
    "# project: p1\n",
    "# submitter: cmbatchelor\n",
    "# partner: none\n",
    "# hours: .5\n"
   ]
  }
 ],
 "metadata": {
  "kernelspec": {
   "display_name": "Python 3",
   "language": "python",
   "name": "python3"
  },
  "language_info": {
   "codemirror_mode": {
    "name": "ipython",
    "version": 3
   },
   "file_extension": ".py",
   "mimetype": "text/x-python",
   "name": "python",
   "nbconvert_exporter": "python",
   "pygments_lexer": "ipython3",
   "version": "3.8.8"
  }
 },
 "nbformat": 4,
 "nbformat_minor": 5
}
